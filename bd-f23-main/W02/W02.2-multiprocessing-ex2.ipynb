{
 "cells": [
  {
   "cell_type": "markdown",
   "metadata": {},
   "source": [
    "## Demonstrating serial vs parallel processing - Example #2\n",
    "\n",
    "**Week02, Example 2**\n",
    "\n",
    "ISM6562 \n",
    "\n",
    "&copy; 2023 Dr. Tim Smith\n",
    "\n",
    "\n",
    "<a target=\"_blank\" href=\"https://colab.research.google.com/github/prof-tcsmith/bd-f23/blob/main/W02/W02.2-multiprocessing-ex2.ipynb#offline=1\">\n",
    "  <img src=\"https://colab.research.google.com/assets/colab-badge.svg\" alt=\"Open In Colab\"/>\n",
    "</a>\n",
    "\n",
    "\n",
    "---"
   ]
  },
  {
   "cell_type": "code",
   "execution_count": 1,
   "metadata": {},
   "outputs": [],
   "source": [
    "# uncomment the following line to install the package on google colab\n",
    "# ! pip install multiprocess\n",
    "\n",
    "# uncomment the following line to install the package on your local machine with conda\n",
    "# ! conda install -c conda-forge multiprocess"
   ]
  },
  {
   "cell_type": "code",
   "execution_count": 2,
   "metadata": {},
   "outputs": [
    {
     "name": "stdout",
     "output_type": "stream",
     "text": [
      "The computer you are running this on has 32 cores.\n"
     ]
    }
   ],
   "source": [
    "import multiprocess\n",
    "from multiprocess import Pool\n",
    "import requests\n",
    "\n",
    "number_of_cores = multiprocess.cpu_count()\n",
    "\n",
    "print(f\"The computer you are running this on has {number_of_cores} cores.\")"
   ]
  },
  {
   "cell_type": "code",
   "execution_count": 3,
   "metadata": {},
   "outputs": [],
   "source": [
    "# the number of cores to use is dependent on a number factors\n",
    "#  * how many other processes are running on your computer\n",
    "#  * how many cores your computer has\n",
    "#  * newer CPUs have p-cores (performance cores) and e-cores (efficiency cores) \n",
    "#       - the p-cores are faster but use more power, the e-cores are slower but use less power\n",
    "\n",
    "# Uncomment on of the following to set the number of cores to use\n",
    "\n",
    "\n",
    "#number_of_cores_to_use = 2 # if you are on colaboratory, you have 2 cores\n",
    "\n",
    "# if you are running this on your local machine, you likely have 4 or more cores\n",
    "number_of_cores_to_use = number_of_cores - 1 # leave one core for the OS "
   ]
  },
  {
   "cell_type": "markdown",
   "metadata": {
    "tags": []
   },
   "source": [
    "In this notebook, we repeat the same approach as per Example 01, but this time we process a large text file."
   ]
  },
  {
   "cell_type": "code",
   "execution_count": 4,
   "metadata": {},
   "outputs": [],
   "source": [
    "import re\n",
    "\n",
    "def task(s):\n",
    "    vowel_count = len([ch for ch in s if ch in 'aeiou'])\n",
    "    consonant_count = len([ch for ch in s if ch not in 'bcdfghjklmnpqrstvwyz'])\n",
    "    blank_count = len([ch for ch in s if ch == ' '])\n",
    "    return [vowel_count, consonant_count, blank_count]\n",
    "    "
   ]
  },
  {
   "cell_type": "markdown",
   "metadata": {},
   "source": [
    "Load our datafile"
   ]
  },
  {
   "cell_type": "code",
   "execution_count": 5,
   "metadata": {},
   "outputs": [
    {
     "name": "stdout",
     "output_type": "stream",
     "text": [
      "d grown old in society and at court. He went up to Anna Pávlovna,\n",
      "kissed her hand, presenting to her his bald, scented, and shining head,\n",
      "and complacently seated himself on the sofa.\n",
      "\n",
      "“First of all, dear friend, tell me how you are. Set your friend’s\n",
      "mind at rest,” said he without altering his \n"
     ]
    }
   ],
   "source": [
    "# download the data from the class repo\n",
    "# Thie will make it easier to run this demo, as you will not need to download the text file to your local computer.\n",
    "text = requests.get('https://raw.githubusercontent.com/prof-tcsmith/big-data-f23/main/W02/data/war_and_peace.txt').text\n",
    "print(text[10_000:10_300])\n",
    "text = text*20 # make the text 20 times longer; to make the demo require more processing"
   ]
  },
  {
   "cell_type": "markdown",
   "metadata": {},
   "source": [
    "Let's use a single core approach"
   ]
  },
  {
   "cell_type": "code",
   "execution_count": 6,
   "metadata": {},
   "outputs": [
    {
     "name": "stdout",
     "output_type": "stream",
     "text": [
      "Vowels: 18,487,820\n",
      "Consonants: 35,371,760\n",
      "Blanks: 10,339,260\n",
      "\n",
      "CPU times: user 2.77 s, sys: 84.5 ms, total: 2.86 s\n",
      "Wall time: 2.86 s\n"
     ]
    }
   ],
   "source": [
    "%%time\n",
    "results = task(text)\n",
    "print(f\"Vowels: {results[0]:,d}\")\n",
    "print(f\"Consonants: {results[1]:,d}\")\n",
    "print(f\"Blanks: {results[2]:,d}\")\n",
    "print()"
   ]
  },
  {
   "cell_type": "markdown",
   "metadata": {},
   "source": [
    "Next, let's do this using mulutiple cores in parallel"
   ]
  },
  {
   "cell_type": "code",
   "execution_count": 7,
   "metadata": {},
   "outputs": [
    {
     "name": "stdout",
     "output_type": "stream",
     "text": [
      "Vowels: 18,487,820\n",
      "Consonants: 35,371,760\n",
      "Blanks: 10,339,260\n",
      "CPU times: user 39.5 ms, sys: 49.5 ms, total: 89 ms\n",
      "Wall time: 1.59 s\n"
     ]
    }
   ],
   "source": [
    "%%time\n",
    "from multiprocess import Pool\n",
    "\n",
    "parts = [text[i:i+len(text)//number_of_cores] for i in range(0, len(text), len(text)//number_of_cores)]\n",
    "\n",
    "with Pool(number_of_cores_to_use) as p:\n",
    "    count = p.map(task, parts)\n",
    "\n",
    "print(f\"Vowels: {results[0]:,d}\")\n",
    "print(f\"Consonants: {results[1]:,d}\")\n",
    "print(f\"Blanks: {results[2]:,d}\")                  "
   ]
  }
 ],
 "metadata": {
  "kernelspec": {
   "display_name": "Python 3 (ipykernel)",
   "language": "python",
   "name": "python3"
  },
  "language_info": {
   "codemirror_mode": {
    "name": "ipython",
    "version": 3
   },
   "file_extension": ".py",
   "mimetype": "text/x-python",
   "name": "python",
   "nbconvert_exporter": "python",
   "pygments_lexer": "ipython3",
   "version": "3.10.12"
  },
  "vscode": {
   "interpreter": {
    "hash": "31f2aee4e71d21fbe5cf8b01ff0e069b9275f58929596ceb00d14d90e3e16cd6"
   }
  }
 },
 "nbformat": 4,
 "nbformat_minor": 4
}
