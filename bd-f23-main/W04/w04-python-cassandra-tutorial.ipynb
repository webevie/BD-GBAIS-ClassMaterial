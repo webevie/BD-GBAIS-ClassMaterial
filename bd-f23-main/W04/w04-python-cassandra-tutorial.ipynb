{
 "cells": [
  {
   "cell_type": "markdown",
   "metadata": {},
   "source": []
  },
  {
   "cell_type": "markdown",
   "metadata": {},
   "source": [
    "# W04 Cassandra Python Tutorial"
   ]
  },
  {
   "attachments": {},
   "cell_type": "markdown",
   "metadata": {},
   "source": [
    "### Import packages"
   ]
  },
  {
   "cell_type": "code",
   "execution_count": 1,
   "metadata": {},
   "outputs": [
    {
     "ename": "ModuleNotFoundError",
     "evalue": "No module named 'cassandra'",
     "output_type": "error",
     "traceback": [
      "\u001b[0;31m---------------------------------------------------------------------------\u001b[0m",
      "\u001b[0;31mModuleNotFoundError\u001b[0m                       Traceback (most recent call last)",
      "Cell \u001b[0;32mIn[1], line 2\u001b[0m\n\u001b[1;32m      1\u001b[0m \u001b[39mimport\u001b[39;00m \u001b[39mpandas\u001b[39;00m \u001b[39mas\u001b[39;00m \u001b[39mpd\u001b[39;00m\n\u001b[0;32m----> 2\u001b[0m \u001b[39mfrom\u001b[39;00m \u001b[39mcassandra\u001b[39;00m\u001b[39m.\u001b[39;00m\u001b[39mcluster\u001b[39;00m \u001b[39mimport\u001b[39;00m Cluster\n",
      "\u001b[0;31mModuleNotFoundError\u001b[0m: No module named 'cassandra'"
     ]
    }
   ],
   "source": [
    "import pandas as pd\n",
    "from cassandra.cluster import Cluster # be sure to install cassandra-driver (not just cassandra)"
   ]
  },
  {
   "attachments": {},
   "cell_type": "markdown",
   "metadata": {},
   "source": [
    "### Create a session connection to Cassandra cluster"
   ]
  },
  {
   "cell_type": "code",
   "execution_count": 2,
   "metadata": {},
   "outputs": [],
   "source": [
    "clstr = Cluster()\n",
    "session = clstr.connect()"
   ]
  },
  {
   "attachments": {},
   "cell_type": "markdown",
   "metadata": {},
   "source": [
    "### Use session to 'talk' to cassandra"
   ]
  },
  {
   "cell_type": "code",
   "execution_count": 3,
   "metadata": {},
   "outputs": [
    {
     "data": {
      "text/plain": [
       "<cassandra.cluster.ResultSet at 0x7fd6eae6b3d0>"
      ]
     },
     "execution_count": 3,
     "metadata": {},
     "output_type": "execute_result"
    }
   ],
   "source": [
    "session.execute(\"DROP KEYSPACE IF EXISTS w04python\")"
   ]
  },
  {
   "cell_type": "code",
   "execution_count": 4,
   "metadata": {},
   "outputs": [
    {
     "name": "stdout",
     "output_type": "stream",
     "text": [
      "system\n",
      "system_auth\n",
      "system_distributed\n",
      "system_schema\n",
      "system_traces\n",
      "system_views\n",
      "system_virtual_schema\n"
     ]
    }
   ],
   "source": [
    "rows = session.execute(\"desc keyspaces\")\n",
    "for row in rows:\n",
    "    print(f\"{row[0]}\")"
   ]
  },
  {
   "cell_type": "code",
   "execution_count": 5,
   "metadata": {},
   "outputs": [
    {
     "data": {
      "text/plain": [
       "<cassandra.cluster.ResultSet at 0x7fd6ea65e310>"
      ]
     },
     "execution_count": 5,
     "metadata": {},
     "output_type": "execute_result"
    }
   ],
   "source": [
    "session.execute(\"\"\"\n",
    "    CREATE KEYSPACE IF NOT EXISTS w04python WITH REPLICATION = {\n",
    "        'class':'SimpleStrategy', \n",
    "        'replication_factor':3\n",
    "    }\n",
    "\"\"\")"
   ]
  },
  {
   "cell_type": "code",
   "execution_count": 6,
   "metadata": {},
   "outputs": [
    {
     "name": "stdout",
     "output_type": "stream",
     "text": [
      "system\n",
      "system_auth\n",
      "system_distributed\n",
      "system_schema\n",
      "system_traces\n",
      "system_views\n",
      "system_virtual_schema\n",
      "w04python\n"
     ]
    }
   ],
   "source": [
    "rows = session.execute(\"desc keyspaces\")\n",
    "for row in rows:\n",
    "    print(f\"{row[0]}\")"
   ]
  },
  {
   "cell_type": "markdown",
   "metadata": {},
   "source": [
    "Create a student table for testing"
   ]
  },
  {
   "cell_type": "code",
   "execution_count": 7,
   "metadata": {},
   "outputs": [
    {
     "data": {
      "text/plain": [
       "<cassandra.cluster.ResultSet at 0x7fd6eb2c48d0>"
      ]
     },
     "execution_count": 7,
     "metadata": {},
     "output_type": "execute_result"
    }
   ],
   "source": [
    "session.execute(\"\"\"\n",
    "CREATE TABLE IF NOT EXISTS w04python.student ( \n",
    "    student_id INT, \n",
    "    f_name TEXT, \n",
    "    l_name TEXT, \n",
    "    course TEXT,\n",
    "    grade FLOAT, \n",
    "    PRIMARY KEY(course, grade, student_id)\n",
    ");\n",
    "\"\"\")"
   ]
  },
  {
   "attachments": {},
   "cell_type": "markdown",
   "metadata": {},
   "source": [
    "### Load data"
   ]
  },
  {
   "cell_type": "code",
   "execution_count": 8,
   "metadata": {},
   "outputs": [
    {
     "data": {
      "text/html": [
       "<div>\n",
       "<style scoped>\n",
       "    .dataframe tbody tr th:only-of-type {\n",
       "        vertical-align: middle;\n",
       "    }\n",
       "\n",
       "    .dataframe tbody tr th {\n",
       "        vertical-align: top;\n",
       "    }\n",
       "\n",
       "    .dataframe thead th {\n",
       "        text-align: right;\n",
       "    }\n",
       "</style>\n",
       "<table border=\"1\" class=\"dataframe\">\n",
       "  <thead>\n",
       "    <tr style=\"text-align: right;\">\n",
       "      <th></th>\n",
       "      <th>student_id</th>\n",
       "      <th>f_name</th>\n",
       "      <th>l_name</th>\n",
       "      <th>course</th>\n",
       "      <th>grade</th>\n",
       "    </tr>\n",
       "  </thead>\n",
       "  <tbody>\n",
       "    <tr>\n",
       "      <th>0</th>\n",
       "      <td>1000</td>\n",
       "      <td>'Tim'</td>\n",
       "      <td>'Smith'</td>\n",
       "      <td>'ISM6562'</td>\n",
       "      <td>95</td>\n",
       "    </tr>\n",
       "    <tr>\n",
       "      <th>1</th>\n",
       "      <td>1001</td>\n",
       "      <td>'John'</td>\n",
       "      <td>'Jones'</td>\n",
       "      <td>'ISM6562'</td>\n",
       "      <td>97</td>\n",
       "    </tr>\n",
       "    <tr>\n",
       "      <th>2</th>\n",
       "      <td>1002</td>\n",
       "      <td>'Jane'</td>\n",
       "      <td>'Williams'</td>\n",
       "      <td>'ISM6562'</td>\n",
       "      <td>89</td>\n",
       "    </tr>\n",
       "    <tr>\n",
       "      <th>3</th>\n",
       "      <td>1003</td>\n",
       "      <td>'Betty'</td>\n",
       "      <td>'Johnson'</td>\n",
       "      <td>'ISM6564'</td>\n",
       "      <td>78</td>\n",
       "    </tr>\n",
       "    <tr>\n",
       "      <th>4</th>\n",
       "      <td>1004</td>\n",
       "      <td>'Jim'</td>\n",
       "      <td>'Bean'</td>\n",
       "      <td>'ISM6564'</td>\n",
       "      <td>65</td>\n",
       "    </tr>\n",
       "    <tr>\n",
       "      <th>5</th>\n",
       "      <td>1005</td>\n",
       "      <td>'Frank'</td>\n",
       "      <td>'Gambali'</td>\n",
       "      <td>'ISM6564'</td>\n",
       "      <td>97</td>\n",
       "    </tr>\n",
       "    <tr>\n",
       "      <th>6</th>\n",
       "      <td>1006</td>\n",
       "      <td>'Judy'</td>\n",
       "      <td>'Garland'</td>\n",
       "      <td>'ISM6564'</td>\n",
       "      <td>83</td>\n",
       "    </tr>\n",
       "    <tr>\n",
       "      <th>7</th>\n",
       "      <td>1007</td>\n",
       "      <td>'Tom'</td>\n",
       "      <td>'Garland'</td>\n",
       "      <td>'ISM6564'</td>\n",
       "      <td>79</td>\n",
       "    </tr>\n",
       "    <tr>\n",
       "      <th>8</th>\n",
       "      <td>1008</td>\n",
       "      <td>'Bill'</td>\n",
       "      <td>'Garland'</td>\n",
       "      <td>'ISM6564'</td>\n",
       "      <td>56</td>\n",
       "    </tr>\n",
       "    <tr>\n",
       "      <th>9</th>\n",
       "      <td>1009</td>\n",
       "      <td>'Tom'</td>\n",
       "      <td>'Jones'</td>\n",
       "      <td>'ISM6564'</td>\n",
       "      <td>34</td>\n",
       "    </tr>\n",
       "    <tr>\n",
       "      <th>10</th>\n",
       "      <td>1010</td>\n",
       "      <td>'Bruce'</td>\n",
       "      <td>'Dickenson'</td>\n",
       "      <td>'ISM6562'</td>\n",
       "      <td>87</td>\n",
       "    </tr>\n",
       "    <tr>\n",
       "      <th>11</th>\n",
       "      <td>1011</td>\n",
       "      <td>'Randy'</td>\n",
       "      <td>'Rhoads'</td>\n",
       "      <td>'ISM6562'</td>\n",
       "      <td>87</td>\n",
       "    </tr>\n",
       "    <tr>\n",
       "      <th>12</th>\n",
       "      <td>1012</td>\n",
       "      <td>'Edward'</td>\n",
       "      <td>'Van Halen'</td>\n",
       "      <td>'ISM6562'</td>\n",
       "      <td>87</td>\n",
       "    </tr>\n",
       "    <tr>\n",
       "      <th>13</th>\n",
       "      <td>1013</td>\n",
       "      <td>'John'</td>\n",
       "      <td>'Five'</td>\n",
       "      <td>'ISM6562'</td>\n",
       "      <td>87</td>\n",
       "    </tr>\n",
       "    <tr>\n",
       "      <th>14</th>\n",
       "      <td>1014</td>\n",
       "      <td>'Marty'</td>\n",
       "      <td>'Friedman'</td>\n",
       "      <td>'ISM6562'</td>\n",
       "      <td>87</td>\n",
       "    </tr>\n",
       "    <tr>\n",
       "      <th>15</th>\n",
       "      <td>1015</td>\n",
       "      <td>'Jake'</td>\n",
       "      <td>'Lee'</td>\n",
       "      <td>'ISM6562'</td>\n",
       "      <td>87</td>\n",
       "    </tr>\n",
       "    <tr>\n",
       "      <th>16</th>\n",
       "      <td>1016</td>\n",
       "      <td>'Steve'</td>\n",
       "      <td>'Via'</td>\n",
       "      <td>'ISM6136'</td>\n",
       "      <td>87</td>\n",
       "    </tr>\n",
       "    <tr>\n",
       "      <th>17</th>\n",
       "      <td>1017</td>\n",
       "      <td>'Judy'</td>\n",
       "      <td>'Lonestar'</td>\n",
       "      <td>'ISM6136'</td>\n",
       "      <td>87</td>\n",
       "    </tr>\n",
       "    <tr>\n",
       "      <th>18</th>\n",
       "      <td>1018</td>\n",
       "      <td>'Judy'</td>\n",
       "      <td>'Doe'</td>\n",
       "      <td>'ISM6136'</td>\n",
       "      <td>99</td>\n",
       "    </tr>\n",
       "    <tr>\n",
       "      <th>19</th>\n",
       "      <td>1019</td>\n",
       "      <td>'Trudy'</td>\n",
       "      <td>'Doe'</td>\n",
       "      <td>'ISM6136'</td>\n",
       "      <td>58</td>\n",
       "    </tr>\n",
       "    <tr>\n",
       "      <th>20</th>\n",
       "      <td>1020</td>\n",
       "      <td>'Bill'</td>\n",
       "      <td>'Jones'</td>\n",
       "      <td>'ISM6136'</td>\n",
       "      <td>81</td>\n",
       "    </tr>\n",
       "  </tbody>\n",
       "</table>\n",
       "</div>"
      ],
      "text/plain": [
       "    student_id    f_name       l_name     course  grade\n",
       "0         1000     'Tim'      'Smith'  'ISM6562'     95\n",
       "1         1001    'John'      'Jones'  'ISM6562'     97\n",
       "2         1002    'Jane'   'Williams'  'ISM6562'     89\n",
       "3         1003   'Betty'    'Johnson'  'ISM6564'     78\n",
       "4         1004     'Jim'       'Bean'  'ISM6564'     65\n",
       "5         1005   'Frank'    'Gambali'  'ISM6564'     97\n",
       "6         1006    'Judy'    'Garland'  'ISM6564'     83\n",
       "7         1007     'Tom'    'Garland'  'ISM6564'     79\n",
       "8         1008    'Bill'    'Garland'  'ISM6564'     56\n",
       "9         1009     'Tom'      'Jones'  'ISM6564'     34\n",
       "10        1010   'Bruce'  'Dickenson'  'ISM6562'     87\n",
       "11        1011   'Randy'     'Rhoads'  'ISM6562'     87\n",
       "12        1012  'Edward'  'Van Halen'  'ISM6562'     87\n",
       "13        1013    'John'       'Five'  'ISM6562'     87\n",
       "14        1014   'Marty'   'Friedman'  'ISM6562'     87\n",
       "15        1015    'Jake'        'Lee'  'ISM6562'     87\n",
       "16        1016   'Steve'        'Via'  'ISM6136'     87\n",
       "17        1017    'Judy'   'Lonestar'  'ISM6136'     87\n",
       "18        1018    'Judy'        'Doe'  'ISM6136'     99\n",
       "19        1019   'Trudy'        'Doe'  'ISM6136'     58\n",
       "20        1020    'Bill'      'Jones'  'ISM6136'     81"
      ]
     },
     "execution_count": 8,
     "metadata": {},
     "output_type": "execute_result"
    }
   ],
   "source": [
    "df = pd.read_csv('w04.csv')\n",
    "df"
   ]
  },
  {
   "cell_type": "code",
   "execution_count": 10,
   "metadata": {},
   "outputs": [
    {
     "name": "stdout",
     "output_type": "stream",
     "text": [
      "student_id = 1000, f_name ='Tim', l_name = 'Smith', course = 'ISM6562', grade = 95\n",
      "student_id = 1001, f_name ='John', l_name = 'Jones', course = 'ISM6562', grade = 97\n",
      "student_id = 1002, f_name ='Jane', l_name = 'Williams', course = 'ISM6562', grade = 89\n",
      "student_id = 1003, f_name ='Betty', l_name = 'Johnson', course = 'ISM6564', grade = 78\n",
      "student_id = 1004, f_name ='Jim', l_name = 'Bean', course = 'ISM6564', grade = 65\n",
      "student_id = 1005, f_name ='Frank', l_name = 'Gambali', course = 'ISM6564', grade = 97\n",
      "student_id = 1006, f_name ='Judy', l_name = 'Garland', course = 'ISM6564', grade = 83\n",
      "student_id = 1007, f_name ='Tom', l_name = 'Garland', course = 'ISM6564', grade = 79\n",
      "student_id = 1008, f_name ='Bill', l_name = 'Garland', course = 'ISM6564', grade = 56\n",
      "student_id = 1009, f_name ='Tom', l_name = 'Jones', course = 'ISM6564', grade = 34\n",
      "student_id = 1010, f_name ='Bruce', l_name = 'Dickenson', course = 'ISM6562', grade = 87\n",
      "student_id = 1011, f_name ='Randy', l_name = 'Rhoads', course = 'ISM6562', grade = 87\n",
      "student_id = 1012, f_name ='Edward', l_name = 'Van Halen', course = 'ISM6562', grade = 87\n",
      "student_id = 1013, f_name ='John', l_name = 'Five', course = 'ISM6562', grade = 87\n",
      "student_id = 1014, f_name ='Marty', l_name = 'Friedman', course = 'ISM6562', grade = 87\n",
      "student_id = 1015, f_name ='Jake', l_name = 'Lee', course = 'ISM6562', grade = 87\n",
      "student_id = 1016, f_name ='Steve', l_name = 'Via', course = 'ISM6136', grade = 87\n",
      "student_id = 1017, f_name ='Judy', l_name = 'Lonestar', course = 'ISM6136', grade = 87\n",
      "student_id = 1018, f_name ='Judy', l_name = 'Doe', course = 'ISM6136', grade = 99\n",
      "student_id = 1019, f_name ='Trudy', l_name = 'Doe', course = 'ISM6136', grade = 58\n",
      "student_id = 1020, f_name ='Bill', l_name = 'Jones', course = 'ISM6136', grade = 81\n"
     ]
    }
   ],
   "source": [
    "for index, row in df.iterrows():\n",
    "    print(f\"student_id = {row.student_id}, f_name ={row.f_name}, l_name = {row.l_name}, course = {row.course}, grade = {row.grade}\")"
   ]
  },
  {
   "cell_type": "code",
   "execution_count": 11,
   "metadata": {},
   "outputs": [
    {
     "name": "stdout",
     "output_type": "stream",
     "text": [
      "\n",
      "        INSERT INTO w04python.student (student_id, f_name, l_name, course, grade)     \n",
      "        VALUES (1000, 'Tim', 'Smith', 'ISM6562', 95);\n",
      "        \n",
      "\n",
      "        INSERT INTO w04python.student (student_id, f_name, l_name, course, grade)     \n",
      "        VALUES (1001, 'John', 'Jones', 'ISM6562', 97);\n",
      "        \n",
      "\n",
      "        INSERT INTO w04python.student (student_id, f_name, l_name, course, grade)     \n",
      "        VALUES (1002, 'Jane', 'Williams', 'ISM6562', 89);\n",
      "        \n",
      "\n",
      "        INSERT INTO w04python.student (student_id, f_name, l_name, course, grade)     \n",
      "        VALUES (1003, 'Betty', 'Johnson', 'ISM6564', 78);\n",
      "        \n",
      "\n",
      "        INSERT INTO w04python.student (student_id, f_name, l_name, course, grade)     \n",
      "        VALUES (1004, 'Jim', 'Bean', 'ISM6564', 65);\n",
      "        \n",
      "\n",
      "        INSERT INTO w04python.student (student_id, f_name, l_name, course, grade)     \n",
      "        VALUES (1005, 'Frank', 'Gambali', 'ISM6564', 97);\n",
      "        \n",
      "\n",
      "        INSERT INTO w04python.student (student_id, f_name, l_name, course, grade)     \n",
      "        VALUES (1006, 'Judy', 'Garland', 'ISM6564', 83);\n",
      "        \n",
      "\n",
      "        INSERT INTO w04python.student (student_id, f_name, l_name, course, grade)     \n",
      "        VALUES (1007, 'Tom', 'Garland', 'ISM6564', 79);\n",
      "        \n",
      "\n",
      "        INSERT INTO w04python.student (student_id, f_name, l_name, course, grade)     \n",
      "        VALUES (1008, 'Bill', 'Garland', 'ISM6564', 56);\n",
      "        \n",
      "\n",
      "        INSERT INTO w04python.student (student_id, f_name, l_name, course, grade)     \n",
      "        VALUES (1009, 'Tom', 'Jones', 'ISM6564', 34);\n",
      "        \n",
      "\n",
      "        INSERT INTO w04python.student (student_id, f_name, l_name, course, grade)     \n",
      "        VALUES (1010, 'Bruce', 'Dickenson', 'ISM6562', 87);\n",
      "        \n",
      "\n",
      "        INSERT INTO w04python.student (student_id, f_name, l_name, course, grade)     \n",
      "        VALUES (1011, 'Randy', 'Rhoads', 'ISM6562', 87);\n",
      "        \n",
      "\n",
      "        INSERT INTO w04python.student (student_id, f_name, l_name, course, grade)     \n",
      "        VALUES (1012, 'Edward', 'Van Halen', 'ISM6562', 87);\n",
      "        \n",
      "\n",
      "        INSERT INTO w04python.student (student_id, f_name, l_name, course, grade)     \n",
      "        VALUES (1013, 'John', 'Five', 'ISM6562', 87);\n",
      "        \n",
      "\n",
      "        INSERT INTO w04python.student (student_id, f_name, l_name, course, grade)     \n",
      "        VALUES (1014, 'Marty', 'Friedman', 'ISM6562', 87);\n",
      "        \n",
      "\n",
      "        INSERT INTO w04python.student (student_id, f_name, l_name, course, grade)     \n",
      "        VALUES (1015, 'Jake', 'Lee', 'ISM6562', 87);\n",
      "        \n",
      "\n",
      "        INSERT INTO w04python.student (student_id, f_name, l_name, course, grade)     \n",
      "        VALUES (1016, 'Steve', 'Via', 'ISM6136', 87);\n",
      "        \n",
      "\n",
      "        INSERT INTO w04python.student (student_id, f_name, l_name, course, grade)     \n",
      "        VALUES (1017, 'Judy', 'Lonestar', 'ISM6136', 87);\n",
      "        \n",
      "\n",
      "        INSERT INTO w04python.student (student_id, f_name, l_name, course, grade)     \n",
      "        VALUES (1018, 'Judy', 'Doe', 'ISM6136', 99);\n",
      "        \n",
      "\n",
      "        INSERT INTO w04python.student (student_id, f_name, l_name, course, grade)     \n",
      "        VALUES (1019, 'Trudy', 'Doe', 'ISM6136', 58);\n",
      "        \n",
      "\n",
      "        INSERT INTO w04python.student (student_id, f_name, l_name, course, grade)     \n",
      "        VALUES (1020, 'Bill', 'Jones', 'ISM6136', 81);\n",
      "        \n"
     ]
    }
   ],
   "source": [
    "for index, row in df.iterrows():\n",
    "    print(f\"\"\"\n",
    "        INSERT INTO w04python.student (student_id, f_name, l_name, course, grade)     \n",
    "        VALUES ({row.student_id}, {row.f_name}, {row.l_name}, {row.course}, {row.grade});\n",
    "        \"\"\"\n",
    "    )\n",
    "    session.execute(f\"\"\"\n",
    "        INSERT INTO w04python.student (student_id, f_name, l_name, course, grade)     \n",
    "        VALUES ({row.student_id}, {row.f_name}, {row.l_name}, {row.course}, {row.grade});\n",
    "        \"\"\"\n",
    "    )"
   ]
  },
  {
   "cell_type": "code",
   "execution_count": 15,
   "metadata": {},
   "outputs": [
    {
     "name": "stdout",
     "output_type": "stream",
     "text": [
      "student_id=1019, f_name=Trudy, l_name=Doe, grade=ISM6136, grade=58.0\n",
      "student_id=1020, f_name=Bill, l_name=Jones, grade=ISM6136, grade=81.0\n",
      "student_id=1016, f_name=Steve, l_name=Via, grade=ISM6136, grade=87.0\n",
      "student_id=1017, f_name=Judy, l_name=Lonestar, grade=ISM6136, grade=87.0\n",
      "student_id=1018, f_name=Judy, l_name=Doe, grade=ISM6136, grade=99.0\n",
      "student_id=1009, f_name=Tom, l_name=Jones, grade=ISM6564, grade=34.0\n",
      "student_id=1008, f_name=Bill, l_name=Garland, grade=ISM6564, grade=56.0\n",
      "student_id=1004, f_name=Jim, l_name=Bean, grade=ISM6564, grade=65.0\n",
      "student_id=1003, f_name=Betty, l_name=Johnson, grade=ISM6564, grade=78.0\n",
      "student_id=1007, f_name=Tom, l_name=Garland, grade=ISM6564, grade=79.0\n",
      "student_id=1006, f_name=Judy, l_name=Garland, grade=ISM6564, grade=83.0\n",
      "student_id=1005, f_name=Frank, l_name=Gambali, grade=ISM6564, grade=97.0\n",
      "student_id=1010, f_name=Bruce, l_name=Dickenson, grade=ISM6562, grade=87.0\n",
      "student_id=1011, f_name=Randy, l_name=Rhoads, grade=ISM6562, grade=87.0\n",
      "student_id=1012, f_name=Edward, l_name=Van Halen, grade=ISM6562, grade=87.0\n",
      "student_id=1013, f_name=John, l_name=Five, grade=ISM6562, grade=87.0\n",
      "student_id=1014, f_name=Marty, l_name=Friedman, grade=ISM6562, grade=87.0\n",
      "student_id=1015, f_name=Jake, l_name=Lee, grade=ISM6562, grade=87.0\n",
      "student_id=1002, f_name=Jane, l_name=Williams, grade=ISM6562, grade=89.0\n",
      "student_id=1000, f_name=Tim, l_name=Smith, grade=ISM6562, grade=95.0\n",
      "student_id=1001, f_name=John, l_name=Jones, grade=ISM6562, grade=97.0\n"
     ]
    }
   ],
   "source": [
    "rows = session.execute(\"select (student_id, f_name, l_name, course, grade) from w04python.student\")\n",
    "for row in rows:\n",
    "    print(f\"student_id={row[0][0]}, f_name={row[0][1]}, l_name={row[0][2]}, grade={row[0][3]}, grade={row[0][4]}\")\n"
   ]
  },
  {
   "cell_type": "code",
   "execution_count": 13,
   "metadata": {},
   "outputs": [
    {
     "name": "stdout",
     "output_type": "stream",
     "text": [
      "Jones, Bill, 81.0\n",
      "Via, Steve, 87.0\n",
      "Lonestar, Judy, 87.0\n",
      "Doe, Judy, 99.0\n",
      "Garland, Judy, 83.0\n",
      "Gambali, Frank, 97.0\n",
      "Dickenson, Bruce, 87.0\n",
      "Rhoads, Randy, 87.0\n",
      "Van Halen, Edward, 87.0\n",
      "Five, John, 87.0\n",
      "Friedman, Marty, 87.0\n",
      "Lee, Jake, 87.0\n",
      "Williams, Jane, 89.0\n",
      "Smith, Tim, 95.0\n",
      "Jones, John, 97.0\n"
     ]
    }
   ],
   "source": [
    "rows = session.execute(\"select (l_name, f_name, grade) from w04python.student where grade > 80 ALLOW FILTERING\")\n",
    "for row in rows:\n",
    "    print(f\"{row[0][0]}, {row[0][1]}, {row[0][2]}\")"
   ]
  },
  {
   "cell_type": "code",
   "execution_count": null,
   "metadata": {},
   "outputs": [],
   "source": [
    "rows = session.execute(\"select token(course), student_id, f_name, l_name from w04python.student;\")\n",
    "for row in rows:\n",
    "    print(f\"{row[0][0]}, {row[0][1]}, {row[0][2]}, {row[0][3]}\")\n",
    "    "
   ]
  },
  {
   "attachments": {},
   "cell_type": "markdown",
   "metadata": {},
   "source": [
    "## Challenge\n",
    "\n",
    "Let's say we want to select all students with a grade higher than 90 but without requiring ALLOW FILTERING\n",
    "\n",
    "Can you come up with a way to to do this?\n",
    "\n",
    "Here are some resources to help you better understand cassandra ALLOW FILTERING and indexing (there are many other resources online):\n",
    "\n",
    "> For more informaiton on ALLOW FILTERING see: https://www.datastax.com/blog/allow-filtering-explained"
   ]
  }
 ],
 "metadata": {
  "kernelspec": {
   "display_name": "base",
   "language": "python",
   "name": "python3"
  },
  "language_info": {
   "codemirror_mode": {
    "name": "ipython",
    "version": 3
   },
   "file_extension": ".py",
   "mimetype": "text/x-python",
   "name": "python",
   "nbconvert_exporter": "python",
   "pygments_lexer": "ipython3",
   "version": "3.11.5"
  },
  "orig_nbformat": 4,
  "vscode": {
   "interpreter": {
    "hash": "c774f5f42cb3e70515ef7cb909d9051370cc09a28b296d74902002ebc2249cb4"
   }
  }
 },
 "nbformat": 4,
 "nbformat_minor": 2
}
