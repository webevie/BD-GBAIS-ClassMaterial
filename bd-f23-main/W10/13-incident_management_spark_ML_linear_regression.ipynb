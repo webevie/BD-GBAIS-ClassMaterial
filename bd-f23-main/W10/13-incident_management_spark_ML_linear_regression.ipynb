{
 "cells": [
  {
   "cell_type": "code",
   "execution_count": 1,
   "metadata": {},
   "outputs": [
    {
     "name": "stderr",
     "output_type": "stream",
     "text": [
      "23/10/26 15:19:09 WARN Utils: Your hostname, localhost.localdomain resolves to a loopback address: 127.0.0.1; using 10.21.5.100 instead (on interface eth0)\n",
      "23/10/26 15:19:09 WARN Utils: Set SPARK_LOCAL_IP if you need to bind to another address\n",
      "Setting default log level to \"WARN\".\n",
      "To adjust logging level use sc.setLogLevel(newLevel). For SparkR, use setLogLevel(newLevel).\n",
      "23/10/26 15:19:10 WARN NativeCodeLoader: Unable to load native-hadoop library for your platform... using builtin-java classes where applicable\n"
     ]
    },
    {
     "name": "stdout",
     "output_type": "stream",
     "text": [
      "Spark Session WebUI Port: 4040\n"
     ]
    }
   ],
   "source": [
    "from pyspark.sql import SparkSession;\n",
    "\n",
    "# warehouse_location points to the default location for managed databases and tables\n",
    "from os.path import abspath\n",
    "warehouse_location = abspath('spark-warehouse')\n",
    "\n",
    "spark = SparkSession \\\n",
    "    .builder \\\n",
    "    .master(\"local[*]\") \\\n",
    "    .appName(\"ISM6562 PySpark Tutorials\") \\\n",
    "    .config(\"spark.sql.warehouse.dir\", warehouse_location) \\\n",
    "    .enableHiveSupport() \\\n",
    "    .getOrCreate()\n",
    "\n",
    "\n",
    "# Let's get the SparkContext object. It's the entry point to the Spark API. It's created when you create a sparksession\n",
    "sc = spark.sparkContext\n",
    "\n",
    "# note: If you have multiple spark sessions running (like from a previous notebook you've run), \n",
    "# this spark session webUI will be on a different port than the default (4040). One way to \n",
    "# identify this part is with the following line. If there was only one spark session running, \n",
    "# this will be 4040. If it's higher, it means there are still other spark sesssions still running.\n",
    "spark_session_port = spark.sparkContext.uiWebUrl.split(\":\")[-1]\n",
    "print(\"Spark Session WebUI Port: \" + spark_session_port)"
   ]
  },
  {
   "cell_type": "code",
   "execution_count": 2,
   "metadata": {},
   "outputs": [
    {
     "data": {
      "text/html": [
       "\n",
       "            <div>\n",
       "                <p><b>SparkSession - hive</b></p>\n",
       "                \n",
       "        <div>\n",
       "            <p><b>SparkContext</b></p>\n",
       "\n",
       "            <p><a href=\"http://linux:4040\">Spark UI</a></p>\n",
       "\n",
       "            <dl>\n",
       "              <dt>Version</dt>\n",
       "                <dd><code>v3.5.0</code></dd>\n",
       "              <dt>Master</dt>\n",
       "                <dd><code>local[*]</code></dd>\n",
       "              <dt>AppName</dt>\n",
       "                <dd><code>ISM6562 PySpark Tutorials</code></dd>\n",
       "            </dl>\n",
       "        </div>\n",
       "        \n",
       "            </div>\n",
       "        "
      ],
      "text/plain": [
       "<pyspark.sql.session.SparkSession at 0x7f9f3c430050>"
      ]
     },
     "execution_count": 2,
     "metadata": {},
     "output_type": "execute_result"
    }
   ],
   "source": [
    "spark"
   ]
  },
  {
   "attachments": {},
   "cell_type": "markdown",
   "metadata": {},
   "source": [
    "# Estimating Incident Duration using Linear Regression"
   ]
  },
  {
   "cell_type": "markdown",
   "metadata": {},
   "source": [
    "The Incident Management dataset has about 141712 records of 24918 incidents. Each state of the incident is being captured as an individual record with few exceptions where the closed state of an incident is recorded more than once. With the help of the below segment of the code, we load and clean the Incident Management data so that only one record representing the truly closed state per incident is obtained."
   ]
  },
  {
   "attachments": {},
   "cell_type": "markdown",
   "metadata": {},
   "source": [
    "### Loading our data"
   ]
  },
  {
   "attachments": {},
   "cell_type": "markdown",
   "metadata": {},
   "source": [
    "If you've successfully run the previous incident management notebook, you should have the data in the hive store."
   ]
  },
  {
   "cell_type": "code",
   "execution_count": 3,
   "metadata": {},
   "outputs": [
    {
     "name": "stderr",
     "output_type": "stream",
     "text": [
      "23/10/26 15:19:14 WARN HiveConf: HiveConf of name hive.stats.jdbc.timeout does not exist\n",
      "23/10/26 15:19:14 WARN HiveConf: HiveConf of name hive.stats.retries.wait does not exist\n",
      "23/10/26 15:19:16 WARN ObjectStore: Version information not found in metastore. hive.metastore.schema.verification is not enabled so recording the schema version 2.3.0\n",
      "23/10/26 15:19:16 WARN ObjectStore: setMetaStoreSchemaVersion called but recording version is disabled: version = 2.3.0, comment = Set by MetaStore student@127.0.0.1\n",
      "23/10/26 15:19:16 WARN ObjectStore: Failed to get database global_temp, returning NoSuchObjectException\n"
     ]
    },
    {
     "name": "stdout",
     "output_type": "stream",
     "text": [
      "+---------+------------+-----------+\n",
      "|namespace|   tableName|isTemporary|\n",
      "+---------+------------+-----------+\n",
      "|  default|fake_friends|      false|\n",
      "|  default|   incidents|      false|\n",
      "|  default|movieratings|      false|\n",
      "|  default|      movies|      false|\n",
      "+---------+------------+-----------+\n",
      "\n"
     ]
    }
   ],
   "source": [
    "spark.sql(\"show tables\").show()"
   ]
  },
  {
   "cell_type": "code",
   "execution_count": 4,
   "metadata": {},
   "outputs": [
    {
     "name": "stderr",
     "output_type": "stream",
     "text": [
      "23/10/26 15:19:18 WARN SparkStringUtils: Truncated the string representation of a plan since it was too large. This behavior can be adjusted by setting 'spark.sql.debug.maxToStringFields'.\n",
      "[Stage 0:>                                                          (0 + 1) / 1]\r"
     ]
    },
    {
     "name": "stdout",
     "output_type": "stream",
     "text": [
      "+----------+--------------+------+------------------+------------+-------------+--------+-----------+--------------+---------------+--------------+---------------+--------------+--------------+------------+------------+-----------+---------------+-----------+-------+----------+----------+------------+----------------+------------+---------+-----------------------+-------------+-------------+---+------+---------+-----------+---------------+---------------+--------------+-------------------+-------------------+-------------------+-------------------+-------------------+----------+----------+-----------+-----------+----------+--------+\n",
      "|    number|incident_state|active|reassignment_count|reopen_count|sys_mod_count|made_sla|  caller_id|     opened_by|      opened_at|sys_created_by| sys_created_at|sys_updated_by|sys_updated_at|contact_type|    location|   category|    subcategory|  u_symptom|cmdb_ci|    impact|   urgency|    priority|assignment_group| assigned_to|knowledge|u_priority_confirmation|       notify|   problem_id|rfc|vendor|caused_by|closed_code|    resolved_by|    resolved_at|     closed_at|        resolved_ts|          opened_ts|     sys_created_ts|     sys_updated_ts|          closed_ts|  resolved|    opened|sys_created|sys_updated|    closed|duration|\n",
      "+----------+--------------+------+------------------+------------+-------------+--------+-----------+--------------+---------------+--------------+---------------+--------------+--------------+------------+------------+-----------+---------------+-----------+-------+----------+----------+------------+----------------+------------+---------+-----------------------+-------------+-------------+---+------+---------+-----------+---------------+---------------+--------------+-------------------+-------------------+-------------------+-------------------+-------------------+----------+----------+-----------+-----------+----------+--------+\n",
      "|INC0000045|        Closed| false|                 0|           0|            4|    true|Caller 2403|  Opened by  8|29/2/2016 01:16|  Created by 6|29/2/2016 01:23|Updated by 908|5/3/2016 12:00|       Phone|Location 143|Category 55|Subcategory 170| Symptom 72|      ?|2 - Medium|2 - Medium|3 - Moderate|        Group 56|           ?|     true|                  false|Do Not Notify|            ?|  ?|     ?|        ?|     code 5|Resolved by 149|29/2/2016 11:29|5/3/2016 12:00|2016-02-29 11:29:00|2016-02-29 01:16:00|2016-02-29 01:23:00|2016-03-05 12:00:00|2016-03-05 12:00:00|2016-02-29|2016-02-29| 2016-02-29| 2016-03-05|2016-03-05|       0|\n",
      "|INC0000047|        Closed| false|                 1|           0|            8|    true|Caller 2403|Opened by  397|29/2/2016 04:40|Created by 171|29/2/2016 04:57|Updated by 908|6/3/2016 10:00|       Phone|Location 165|Category 40|Subcategory 215|Symptom 471|      ?|2 - Medium|2 - Medium|3 - Moderate|        Group 24| Resolver 89|     true|                  false|Do Not Notify|            ?|  ?|     ?|        ?|     code 5| Resolved by 81|  1/3/2016 9:52|6/3/2016 10:00|2016-03-01 09:52:00|2016-02-29 04:40:00|2016-02-29 04:57:00|2016-03-06 10:00:00|2016-03-06 10:00:00|2016-03-01|2016-02-29| 2016-02-29| 2016-03-06|2016-03-06|       1|\n",
      "|INC0000057|        Closed| false|                 0|           0|            6|    true|Caller 4416|  Opened by  8|29/2/2016 06:10|             ?|              ?|Updated by 908| 6/3/2016 3:00|       Phone|Location 204|Category 20|Subcategory 125|Symptom 471|      ?|2 - Medium|2 - Medium|3 - Moderate|        Group 70|  Resolver 6|     true|                  false|Do Not Notify|Problem ID  2|  ?|     ?|        ?|    code 10|  Resolved by 5|  1/3/2016 2:55| 6/3/2016 3:00|2016-03-01 02:55:00|2016-02-29 06:10:00|               NULL|2016-03-06 03:00:00|2016-03-06 03:00:00|2016-03-01|2016-02-29|       NULL| 2016-03-06|2016-03-06|       1|\n",
      "|INC0000060|        Closed| false|                 0|           0|            3|    true|Caller 4491|Opened by  180|29/2/2016 06:38| Created by 81|29/2/2016 06:42|Updated by 908|7/3/2016 13:00|       Phone|Location 204| Category 9| Subcategory 97|Symptom 450|      ?|2 - Medium|2 - Medium|3 - Moderate|        Group 25|Resolver 125|     true|                  false|Do Not Notify|            ?|  ?|     ?|        ?|     code 3|Resolved by 113| 2/3/2016 12:06|7/3/2016 13:00|2016-03-02 12:06:00|2016-02-29 06:38:00|2016-02-29 06:42:00|2016-03-07 13:00:00|2016-03-07 13:00:00|2016-03-02|2016-02-29| 2016-02-29| 2016-03-07|2016-03-07|       2|\n",
      "|INC0000062|        Closed| false|                 1|           0|            7|   false|Caller 3765|Opened by  180|29/2/2016 06:58| Created by 81|29/2/2016 07:26|Updated by 908|5/3/2016 16:00|       Phone| Location 93|Category 53|Subcategory 168|Symptom 232|      ?|  1 - High|2 - Medium|    2 - High|        Group 23|           ?|     true|                  false|Do Not Notify|            ?|  ?|     ?|        ?|     code 7| Resolved by 62|29/2/2016 15:51|5/3/2016 16:00|2016-02-29 15:51:00|2016-02-29 06:58:00|2016-02-29 07:26:00|2016-03-05 16:00:00|2016-03-05 16:00:00|2016-02-29|2016-02-29| 2016-02-29| 2016-03-05|2016-03-05|       0|\n",
      "+----------+--------------+------+------------------+------------+-------------+--------+-----------+--------------+---------------+--------------+---------------+--------------+--------------+------------+------------+-----------+---------------+-----------+-------+----------+----------+------------+----------------+------------+---------+-----------------------+-------------+-------------+---+------+---------+-----------+---------------+---------------+--------------+-------------------+-------------------+-------------------+-------------------+-------------------+----------+----------+-----------+-----------+----------+--------+\n",
      "only showing top 5 rows\n",
      "\n"
     ]
    },
    {
     "name": "stderr",
     "output_type": "stream",
     "text": [
      "                                                                                \r"
     ]
    }
   ],
   "source": [
    "df = spark.sql(\"select * from incidents\")\n",
    "df.show(5)"
   ]
  },
  {
   "cell_type": "markdown",
   "metadata": {},
   "source": [
    "The data set has multiple states(New, Active, Awaiting user info, Resolved, Closed etc. ) of an incident. With the help  of the below command, we are just filtering one record per incident, that has the truly closed state of the incident. "
   ]
  },
  {
   "cell_type": "code",
   "execution_count": 5,
   "metadata": {},
   "outputs": [],
   "source": [
    "df_closed_incidents=df.filter(\"incident_state=='Closed'\").\\\n",
    "    sort(\"sys_mod_count\",ascending=False).\\\n",
    "    dropDuplicates([\"number\"])"
   ]
  },
  {
   "cell_type": "code",
   "execution_count": 6,
   "metadata": {},
   "outputs": [
    {
     "name": "stderr",
     "output_type": "stream",
     "text": [
      "[Stage 4:=======================================>                   (2 + 1) / 3]\r"
     ]
    },
    {
     "name": "stdout",
     "output_type": "stream",
     "text": [
      "+----------+--------------+------+------------------+------------+-------------+--------+-----------+--------------+---------------+--------------+---------------+--------------+----------------+------------+------------+-----------+---------------+-----------+-------+----------+----------+------------+----------------+------------+---------+-----------------------+-------------+-------------+---+------+---------+-----------+---------------+----------------+----------------+-------------------+-------------------+-------------------+-------------------+-------------------+----------+----------+-----------+-----------+----------+--------+\n",
      "|    number|incident_state|active|reassignment_count|reopen_count|sys_mod_count|made_sla|  caller_id|     opened_by|      opened_at|sys_created_by| sys_created_at|sys_updated_by|  sys_updated_at|contact_type|    location|   category|    subcategory|  u_symptom|cmdb_ci|    impact|   urgency|    priority|assignment_group| assigned_to|knowledge|u_priority_confirmation|       notify|   problem_id|rfc|vendor|caused_by|closed_code|    resolved_by|     resolved_at|       closed_at|        resolved_ts|          opened_ts|     sys_created_ts|     sys_updated_ts|          closed_ts|  resolved|    opened|sys_created|sys_updated|    closed|duration|\n",
      "+----------+--------------+------+------------------+------------+-------------+--------+-----------+--------------+---------------+--------------+---------------+--------------+----------------+------------+------------+-----------+---------------+-----------+-------+----------+----------+------------+----------------+------------+---------+-----------------------+-------------+-------------+---+------+---------+-----------+---------------+----------------+----------------+-------------------+-------------------+-------------------+-------------------+-------------------+----------+----------+-----------+-----------+----------+--------+\n",
      "|INC0000062|        Closed| false|                 1|           0|            7|   false|Caller 3765|Opened by  180|29/2/2016 06:58| Created by 81|29/2/2016 07:26|Updated by 908|  5/3/2016 16:00|       Phone| Location 93|Category 53|Subcategory 168|Symptom 232|      ?|  1 - High|2 - Medium|    2 - High|        Group 23|           ?|     true|                  false|Do Not Notify|            ?|  ?|     ?|        ?|     code 7| Resolved by 62| 29/2/2016 15:51|  5/3/2016 16:00|2016-02-29 15:51:00|2016-02-29 06:58:00|2016-02-29 07:26:00|2016-03-05 16:00:00|2016-03-05 16:00:00|2016-02-29|2016-02-29| 2016-02-29| 2016-03-05|2016-03-05|       0|\n",
      "|INC0000066|        Closed| false|                 1|           0|            3|    true|Caller 3796| Opened by  24|29/2/2016 08:03| Created by 13|29/2/2016 08:18|Updated by 908|  7/3/2016 15:00|       Phone|Location 161|Category 55|Subcategory 185|          ?|      ?|2 - Medium|2 - Medium|3 - Moderate|        Group 54|           ?|     true|                  false|Do Not Notify|            ?|  ?|     ?|        ?|     code 5|Resolved by 208|  2/3/2016 14:37|  7/3/2016 15:00|2016-03-02 14:37:00|2016-02-29 08:03:00|2016-02-29 08:18:00|2016-03-07 15:00:00|2016-03-07 15:00:00|2016-03-02|2016-02-29| 2016-02-29| 2016-03-07|2016-03-07|       2|\n",
      "|INC0000079|        Closed| false|                 1|           0|            4|    true|Caller 2471|Opened by  180|29/2/2016 08:32|             ?|              ?|Updated by 908|  5/3/2016 12:00|       Phone|Location 204|Category 55|Subcategory 170|Symptom 470|      ?|2 - Medium|2 - Medium|3 - Moderate|        Group 65|Resolver 180|     true|                  false|Do Not Notify|            ?|  ?|     ?|        ?|     code 6|Resolved by 163| 29/2/2016 11:20|  5/3/2016 12:00|2016-02-29 11:20:00|2016-02-29 08:32:00|               NULL|2016-03-05 12:00:00|2016-03-05 12:00:00|2016-02-29|2016-02-29|       NULL| 2016-03-05|2016-03-05|       0|\n",
      "|INC0000093|        Closed| false|                 0|           0|            1|    true|Caller 3545|Opened by  131|29/2/2016 08:56|             ?|              ?|Updated by 908|  5/3/2016 10:00|       Phone| Location 93|Category 61|Subcategory 164|Symptom 580|      ?|2 - Medium|2 - Medium|3 - Moderate|        Group 70|           ?|     true|                  false|Do Not Notify|            ?|  ?|     ?|        ?|     code 7| Resolved by 66|               ?|  5/3/2016 10:00|               NULL|2016-02-29 08:56:00|               NULL|2016-03-05 10:00:00|2016-03-05 10:00:00|      NULL|2016-02-29|       NULL| 2016-03-05|2016-03-05|    NULL|\n",
      "|INC0000111|        Closed| false|                 0|           0|            3|    true|Caller 4325|Opened by  180|29/2/2016 09:14| Created by 81|29/2/2016 09:19|Updated by 908|  7/3/2016 15:00|       Phone| Location 93|Category 53|Subcategory 130|Symptom 470|      ?|2 - Medium|2 - Medium|3 - Moderate|        Group 54|           ?|     true|                  false|Do Not Notify|Problem ID  2|  ?|     ?|        ?|     code 7|Resolved by 208|  2/3/2016 14:56|  7/3/2016 15:00|2016-03-02 14:56:00|2016-02-29 09:14:00|2016-02-29 09:19:00|2016-03-07 15:00:00|2016-03-07 15:00:00|2016-03-02|2016-02-29| 2016-02-29| 2016-03-07|2016-03-07|       2|\n",
      "|INC0000126|        Closed| false|                 0|           0|            3|    true|Caller 3754|Opened by  180|29/2/2016 09:31| Created by 81|29/2/2016 09:42|Updated by 908|  7/3/2016 15:00|       Phone|Location 142|Category 53|Subcategory 127|Symptom 470|      ?|2 - Medium|2 - Medium|3 - Moderate|        Group 54|           ?|     true|                  false|Do Not Notify|Problem ID  2|  ?|     ?|        ?|     code 7|Resolved by 208|  2/3/2016 14:57|  7/3/2016 15:00|2016-03-02 14:57:00|2016-02-29 09:31:00|2016-02-29 09:42:00|2016-03-07 15:00:00|2016-03-07 15:00:00|2016-03-02|2016-02-29| 2016-02-29| 2016-03-07|2016-03-07|       2|\n",
      "|INC0000132|        Closed| false|                 2|           0|            5|    true|Caller 3957|Opened by  131|29/2/2016 09:42| Created by 62|29/2/2016 09:50|Updated by 908|  8/3/2016 16:00|       Phone|Location 204| Category 9|Subcategory 164|Symptom 580|      ?|2 - Medium|2 - Medium|3 - Moderate|        Group 23|Resolver 135|     true|                  false|Do Not Notify|            ?|  ?|     ?|        ?|     code 6|Resolved by 121|  3/3/2016 15:18|  8/3/2016 16:00|2016-03-03 15:18:00|2016-02-29 09:42:00|2016-02-29 09:50:00|2016-03-08 16:00:00|2016-03-08 16:00:00|2016-03-03|2016-02-29| 2016-02-29| 2016-03-08|2016-03-08|       3|\n",
      "|INC0000137|        Closed| false|                 0|           0|            3|    true| Caller 899| Opened by  24|29/2/2016 09:48| Created by 13|29/2/2016 08:18|Updated by 908|  5/3/2016 12:00|       Phone| Location 51|Category 32|  Subcategory 9|Symptom 470|      ?|2 - Medium|2 - Medium|3 - Moderate|        Group 70|           ?|     true|                  false|Do Not Notify|            ?|  ?|     ?|        ?|     code 6| Resolved by 15| 29/2/2016 11:03|  5/3/2016 12:00|2016-02-29 11:03:00|2016-02-29 09:48:00|2016-02-29 08:18:00|2016-03-05 12:00:00|2016-03-05 12:00:00|2016-02-29|2016-02-29| 2016-02-29| 2016-03-05|2016-03-05|       0|\n",
      "|INC0000147|        Closed| false|                 1|           0|            9|   false| Caller 926| Opened by  40|29/2/2016 10:00| Created by 20|29/2/2016 10:08|Updated by 908| 19/3/2016 10:00|       Phone|Location 179|Category 53|Subcategory 271|Symptom 470|      ?|2 - Medium|2 - Medium|3 - Moderate|        Group 25|Resolver 125|     true|                  false|Do Not Notify|Problem ID  2|  ?|     ?|        ?|     code 5|Resolved by 113| 14/3/2016 09:49| 19/3/2016 10:00|2016-03-14 09:49:00|2016-02-29 10:00:00|2016-02-29 10:08:00|2016-03-19 10:00:00|2016-03-19 10:00:00|2016-03-14|2016-02-29| 2016-02-29| 2016-03-19|2016-03-19|      14|\n",
      "|INC0000148|        Closed| false|                 0|           0|            3|    true|Caller 4279|Opened by  501|29/2/2016 10:00|Created by 216|29/2/2016 10:04|Updated by 908|  7/3/2016 16:00|       Phone| Location 93|Category 53|Subcategory 127|Symptom 470|      ?|2 - Medium|2 - Medium|3 - Moderate|        Group 54|           ?|     true|                  false|Do Not Notify|Problem ID  2|  ?|     ?|        ?|     code 1|Resolved by 208|  2/3/2016 15:00|  7/3/2016 16:00|2016-03-02 15:00:00|2016-02-29 10:00:00|2016-02-29 10:04:00|2016-03-07 16:00:00|2016-03-07 16:00:00|2016-03-02|2016-02-29| 2016-02-29| 2016-03-07|2016-03-07|       2|\n",
      "|INC0000152|        Closed| false|                 0|           0|            4|    true|Caller 1913|Opened by  180|29/2/2016 10:08| Created by 81|29/2/2016 10:16|Updated by 908|  8/3/2016 10:00|       Phone| Location 51|Category 53|Subcategory 168|  Symptom 4|      ?|2 - Medium|2 - Medium|3 - Moderate|        Group 30|Resolver 201|     true|                   true|Do Not Notify|            ?|  ?|     ?|        ?|     code 6|Resolved by 183|   3/3/2016 9:23|  8/3/2016 10:00|2016-03-03 09:23:00|2016-02-29 10:08:00|2016-02-29 10:16:00|2016-03-08 10:00:00|2016-03-08 10:00:00|2016-03-03|2016-02-29| 2016-02-29| 2016-03-08|2016-03-08|       3|\n",
      "|INC0000164|        Closed| false|                 2|           0|            6|    true|Caller 3237|Opened by  131|29/2/2016 10:18| Created by 13|29/2/2016 08:49|Updated by 908|  8/3/2016 15:00|       Phone|Location 224|Category 53|Subcategory 114|Symptom 470|      ?|2 - Medium|2 - Medium|3 - Moderate|        Group 70|           ?|     true|                  false|Do Not Notify|Problem ID  2|  ?|     ?|        ?|    code 11|Resolved by 175|  3/3/2016 14:34|  8/3/2016 15:00|2016-03-03 14:34:00|2016-02-29 10:18:00|2016-02-29 08:49:00|2016-03-08 15:00:00|2016-03-08 15:00:00|2016-03-03|2016-02-29| 2016-02-29| 2016-03-08|2016-03-08|       3|\n",
      "|INC0000168|        Closed| false|                 0|           0|            2|    true|Caller 4568|Opened by  131|29/2/2016 10:27| Created by 62|29/2/2016 10:39|Updated by 908|  6/3/2016 10:00|       Phone|Location 161| Category 9|Subcategory 164|  Symptom 7|      ?|2 - Medium|2 - Medium|3 - Moderate|        Group 24| Resolver 89|     true|                  false|Do Not Notify|            ?|  ?|     ?|        ?|     code 9| Resolved by 81|   1/3/2016 9:05|  6/3/2016 10:00|2016-03-01 09:05:00|2016-02-29 10:27:00|2016-02-29 10:39:00|2016-03-06 10:00:00|2016-03-06 10:00:00|2016-03-01|2016-02-29| 2016-02-29| 2016-03-06|2016-03-06|       1|\n",
      "|INC0000211|        Closed| false|                 0|           0|            6|    true| Caller 803|Opened by  180|29/2/2016 11:23|             ?|              ?|Updated by 908|   8/3/2016 7:00|       Phone| Location 93|Category 23|  Subcategory 3|          ?|      ?|2 - Medium|2 - Medium|3 - Moderate|        Group 70| Resolver 94|     true|                  false|Do Not Notify|            ?|  ?|     ?|        ?|     code 6| Resolved by 85|   3/3/2016 6:46|   8/3/2016 7:00|2016-03-03 06:46:00|2016-02-29 11:23:00|               NULL|2016-03-08 07:00:00|2016-03-08 07:00:00|2016-03-03|2016-02-29|       NULL| 2016-03-08|2016-03-08|       3|\n",
      "|INC0000232|        Closed| false|                 1|           0|           13|   false|Caller 3032|Opened by  501|29/2/2016 12:20|             ?|              ?|Updated by 908| 24/3/2016 18:50|       Phone|Location 143|Category 45|Subcategory 200|Symptom 470|      ?|   3 - Low|   3 - Low|     4 - Low|        Group 70|Resolver 150|     true|                  false|Do Not Notify|            ?|  ?|     ?|        ?|     code 7|Resolved by 134| 12/3/2016 21:23| 24/3/2016 18:50|2016-03-12 21:23:00|2016-02-29 12:20:00|               NULL|2016-03-24 18:50:00|2016-03-24 18:50:00|2016-03-12|2016-02-29|       NULL| 2016-03-24|2016-03-24|      12|\n",
      "|INC0000265|        Closed| false|                 4|           0|            9|    true|Caller 2441| Opened by  55|29/2/2016 13:14|             ?|              ?|Updated by 908|  7/3/2016 16:00|       Phone|Location 136|Category 20|Subcategory 103|  Symptom 6|      ?|2 - Medium|2 - Medium|3 - Moderate|        Group 69|           ?|     true|                  false|Do Not Notify|            ?|  ?|     ?|        ?|     code 8| Resolved by 83|  2/3/2016 15:29|  7/3/2016 16:00|2016-03-02 15:29:00|2016-02-29 13:14:00|               NULL|2016-03-07 16:00:00|2016-03-07 16:00:00|2016-03-02|2016-02-29|       NULL| 2016-03-07|2016-03-07|       2|\n",
      "|INC0000283|        Closed| false|                 1|           0|           10|    true|  Caller 99|Opened by  386|29/2/2016 13:54|Created by 167|29/2/2016 14:11|Updated by 908|  6/3/2016 10:00|       Phone| Location 51|Category 42| Subcategory 31|          ?|      ?|2 - Medium|2 - Medium|3 - Moderate|        Group 39|Resolver 183|     true|                  false|Do Not Notify|            ?|  ?|     ?|        ?|     code 6|Resolved by 166|   1/3/2016 9:26|  6/3/2016 10:00|2016-03-01 09:26:00|2016-02-29 13:54:00|2016-02-29 14:11:00|2016-03-06 10:00:00|2016-03-06 10:00:00|2016-03-01|2016-02-29| 2016-02-29| 2016-03-06|2016-03-06|       1|\n",
      "|INC0000298|        Closed| false|                 0|           0|           93|   false|Caller 5051|Opened by  433|29/2/2016 14:16|             ?|              ?|Updated by 908|30/11/2016 08:10|       Phone|Location 204|Category 53|Subcategory 113|          ?|      ?|   3 - Low|   3 - Low|     4 - Low|        Group 66| Resolver 18|    false|                   true|Do Not Notify|            ?|  ?|     ?|        ?|     code 6| Resolved by 16|25/11/2016 08:07|30/11/2016 08:10|2016-11-25 08:07:00|2016-02-29 14:16:00|               NULL|2016-11-30 08:10:00|2016-11-30 08:10:00|2016-11-25|2016-02-29|       NULL| 2016-11-30|2016-11-30|     270|\n",
      "|INC0000301|        Closed| false|                 1|           0|            6|    true| Caller 378|Opened by  221|29/2/2016 14:22| Created by 98|29/2/2016 14:24|Updated by 908|  6/3/2016 12:00|       Phone| Location 93|Category 45| Subcategory 29|  Symptom 4|      ?|2 - Medium|2 - Medium|3 - Moderate|        Group 55|           ?|     true|                  false|Do Not Notify|            ?|  ?|     ?|        ?|     code 6|Resolved by 195|  1/3/2016 11:35|  6/3/2016 12:00|2016-03-01 11:35:00|2016-02-29 14:22:00|2016-02-29 14:24:00|2016-03-06 12:00:00|2016-03-06 12:00:00|2016-03-01|2016-02-29| 2016-02-29| 2016-03-06|2016-03-06|       1|\n",
      "|INC0000330|        Closed| false|                 0|           0|           11|   false|Caller 4162|Opened by  433|29/2/2016 14:52|             ?|              ?|Updated by 908| 24/3/2016 18:59|       Phone|Location 204|Category 45|Subcategory 220|          ?|      ?|   3 - Low|   3 - Low|     4 - Low|        Group 66|Resolver 203|     true|                  false|Do Not Notify|            ?|  ?|     ?|        ?|     code 7|Resolved by 184| 18/3/2016 13:44| 24/3/2016 18:59|2016-03-18 13:44:00|2016-02-29 14:52:00|               NULL|2016-03-24 18:59:00|2016-03-24 18:59:00|2016-03-18|2016-02-29|       NULL| 2016-03-24|2016-03-24|      18|\n",
      "+----------+--------------+------+------------------+------------+-------------+--------+-----------+--------------+---------------+--------------+---------------+--------------+----------------+------------+------------+-----------+---------------+-----------+-------+----------+----------+------------+----------------+------------+---------+-----------------------+-------------+-------------+---+------+---------+-----------+---------------+----------------+----------------+-------------------+-------------------+-------------------+-------------------+-------------------+----------+----------+-----------+-----------+----------+--------+\n",
      "only showing top 20 rows\n",
      "\n"
     ]
    },
    {
     "name": "stderr",
     "output_type": "stream",
     "text": [
      "                                                                                \r"
     ]
    }
   ],
   "source": [
    "df_closed_incidents.show()"
   ]
  },
  {
   "attachments": {},
   "cell_type": "markdown",
   "metadata": {},
   "source": [
    "Let's select a the subset of columns we are interested in for our analysis."
   ]
  },
  {
   "cell_type": "code",
   "execution_count": 7,
   "metadata": {},
   "outputs": [],
   "source": [
    "df_closed_incidents =df_closed_incidents.select([\n",
    "    'reassignment_count',\n",
    "    'reopen_count',\n",
    "    'sys_mod_count',\n",
    "    'opened_by',\n",
    "    'location',\n",
    "    'category',\n",
    "    'subcategory',\n",
    "    'priority',\n",
    "    'assignment_group',\n",
    "    'assigned_to',\n",
    "    'knowledge',\n",
    "    'resolved_by',\n",
    "    'duration'\n",
    "    ]\n",
    ")"
   ]
  },
  {
   "cell_type": "code",
   "execution_count": 8,
   "metadata": {},
   "outputs": [
    {
     "data": {
      "text/plain": [
       "24918"
      ]
     },
     "execution_count": 8,
     "metadata": {},
     "output_type": "execute_result"
    }
   ],
   "source": [
    "df_closed_incidents.count()"
   ]
  },
  {
   "cell_type": "code",
   "execution_count": 9,
   "metadata": {},
   "outputs": [],
   "source": [
    "df_closed_incidents = df_closed_incidents.dropna()"
   ]
  },
  {
   "cell_type": "code",
   "execution_count": 10,
   "metadata": {},
   "outputs": [
    {
     "data": {
      "text/plain": [
       "23362"
      ]
     },
     "execution_count": 10,
     "metadata": {},
     "output_type": "execute_result"
    }
   ],
   "source": [
    "df_closed_incidents.count()"
   ]
  },
  {
   "cell_type": "code",
   "execution_count": 11,
   "metadata": {},
   "outputs": [
    {
     "name": "stdout",
     "output_type": "stream",
     "text": [
      "+------------------+------------+-------------+--------------+------------+-----------+---------------+------------+----------------+------------+---------+---------------+--------+\n",
      "|reassignment_count|reopen_count|sys_mod_count|     opened_by|    location|   category|    subcategory|    priority|assignment_group| assigned_to|knowledge|    resolved_by|duration|\n",
      "+------------------+------------+-------------+--------------+------------+-----------+---------------+------------+----------------+------------+---------+---------------+--------+\n",
      "|                 0|           0|            4|  Opened by  8|Location 143|Category 55|Subcategory 170|3 - Moderate|        Group 56|           ?|     true|Resolved by 149|       0|\n",
      "|                 1|           0|            8|Opened by  397|Location 165|Category 40|Subcategory 215|3 - Moderate|        Group 24| Resolver 89|     true| Resolved by 81|       1|\n",
      "|                 0|           0|            6|  Opened by  8|Location 204|Category 20|Subcategory 125|3 - Moderate|        Group 70|  Resolver 6|     true|  Resolved by 5|       1|\n",
      "|                 0|           0|            3|Opened by  180|Location 204| Category 9| Subcategory 97|3 - Moderate|        Group 25|Resolver 125|     true|Resolved by 113|       2|\n",
      "|                 1|           0|            7|Opened by  180| Location 93|Category 53|Subcategory 168|    2 - High|        Group 23|           ?|     true| Resolved by 62|       0|\n",
      "|                 1|           0|            7|Opened by  180| Location 93|Category 20|Subcategory 125|3 - Moderate|        Group 23|           ?|     true| Resolved by 62|       0|\n",
      "|                 1|           0|            8|Opened by  131|Location 143|Category 53|Subcategory 168|3 - Moderate|        Group 28| Resolver 78|     true| Resolved by 71|       3|\n",
      "|                 6|           0|           13|Opened by  131|Location 108|Category 45| Subcategory 94|3 - Moderate|        Group 33|Resolver 216|     true|Resolved by 197|       2|\n",
      "|                 1|           0|            3| Opened by  24|Location 161|Category 55|Subcategory 185|3 - Moderate|        Group 54|           ?|     true|Resolved by 208|       2|\n",
      "|                 1|           0|           10|Opened by  180|Location 143| Category 9|Subcategory 110|3 - Moderate|        Group 28|Resolver 236|     true|Resolved by 215|       2|\n",
      "|                 1|           0|            9|Opened by  131| Location 46| Category 9|Subcategory 164|3 - Moderate|        Group 29| Resolver 31|     true| Resolved by 30|       8|\n",
      "|                 0|           0|            7|Opened by  180|Location 161| Category 9|Subcategory 164|3 - Moderate|        Group 24|Resolver 249|     true|Resolved by 227|       1|\n",
      "|                 1|           0|            6| Opened by  40| Location 42|Category 53|Subcategory 271|3 - Moderate|        Group 54|           ?|     true|Resolved by 208|       1|\n",
      "|                 0|           0|           19|Opened by  433|Location 204|Category 45|Subcategory 220|3 - Moderate|        Group 66|Resolver 193|     true|Resolved by 158|      42|\n",
      "|                 0|           0|            2|Opened by  180| Location 93|Category 42|Subcategory 224|3 - Moderate|        Group 23|           ?|     true| Resolved by 62|       0|\n",
      "|                 0|           0|            5|Opened by  180|Location 108|Category 32|  Subcategory 9|3 - Moderate|        Group 70|           ?|     true| Resolved by 85|       0|\n",
      "|                 1|           0|            4|Opened by  180|Location 204|Category 55|Subcategory 170|3 - Moderate|        Group 65|Resolver 180|     true|Resolved by 163|       0|\n",
      "|                 0|           0|            7| Opened by  24|Location 229|Category 32|  Subcategory 9|3 - Moderate|        Group 70|           ?|     true| Resolved by 15|       2|\n",
      "|                 1|           0|            4|Opened by  131| Location 93|Category 24|Subcategory 164|     4 - Low|        Group 23|           ?|     true| Resolved by 62|       0|\n",
      "|                 0|           0|           19|Opened by  433|Location 204|Category 45|Subcategory 220|     4 - Low|        Group 66|Resolver 175|     true|Resolved by 158|      43|\n",
      "+------------------+------------+-------------+--------------+------------+-----------+---------------+------------+----------------+------------+---------+---------------+--------+\n",
      "only showing top 20 rows\n",
      "\n"
     ]
    }
   ],
   "source": [
    "df_closed_incidents.show()"
   ]
  },
  {
   "attachments": {},
   "cell_type": "markdown",
   "metadata": {},
   "source": [
    "## Model Training"
   ]
  },
  {
   "attachments": {},
   "cell_type": "markdown",
   "metadata": {},
   "source": [
    "We earlier created the incident table with 'inferSchema' set to true. This means that the schema of the table is inferred from the data. The knowledge column was properly inferred as a boolean, however, in the pipeline below with use StringIndexer on this column - and therefore, need to convert this column data type to a string."
   ]
  },
  {
   "cell_type": "code",
   "execution_count": 12,
   "metadata": {},
   "outputs": [
    {
     "name": "stdout",
     "output_type": "stream",
     "text": [
      "root\n",
      " |-- reassignment_count: integer (nullable = true)\n",
      " |-- reopen_count: integer (nullable = true)\n",
      " |-- sys_mod_count: integer (nullable = true)\n",
      " |-- opened_by: string (nullable = true)\n",
      " |-- location: string (nullable = true)\n",
      " |-- category: string (nullable = true)\n",
      " |-- subcategory: string (nullable = true)\n",
      " |-- priority: string (nullable = true)\n",
      " |-- assignment_group: string (nullable = true)\n",
      " |-- assigned_to: string (nullable = true)\n",
      " |-- knowledge: boolean (nullable = true)\n",
      " |-- resolved_by: string (nullable = true)\n",
      " |-- duration: integer (nullable = true)\n",
      "\n"
     ]
    }
   ],
   "source": [
    "df_closed_incidents.printSchema()"
   ]
  },
  {
   "cell_type": "code",
   "execution_count": 13,
   "metadata": {},
   "outputs": [],
   "source": [
    "from pyspark.sql.types import IntegerType,BooleanType,DateType, StringType\n",
    "\n",
    "df_closed_incidents = df_closed_incidents.withColumn(\"knowledge\",df_closed_incidents.knowledge.cast(StringType()))"
   ]
  },
  {
   "cell_type": "code",
   "execution_count": 14,
   "metadata": {},
   "outputs": [
    {
     "name": "stdout",
     "output_type": "stream",
     "text": [
      "root\n",
      " |-- reassignment_count: integer (nullable = true)\n",
      " |-- reopen_count: integer (nullable = true)\n",
      " |-- sys_mod_count: integer (nullable = true)\n",
      " |-- opened_by: string (nullable = true)\n",
      " |-- location: string (nullable = true)\n",
      " |-- category: string (nullable = true)\n",
      " |-- subcategory: string (nullable = true)\n",
      " |-- priority: string (nullable = true)\n",
      " |-- assignment_group: string (nullable = true)\n",
      " |-- assigned_to: string (nullable = true)\n",
      " |-- knowledge: string (nullable = true)\n",
      " |-- resolved_by: string (nullable = true)\n",
      " |-- duration: integer (nullable = true)\n",
      "\n"
     ]
    }
   ],
   "source": [
    "df_closed_incidents.printSchema()"
   ]
  },
  {
   "attachments": {},
   "cell_type": "markdown",
   "metadata": {},
   "source": [
    "Now that we have our data ready, let's do a train test split (70/30)."
   ]
  },
  {
   "cell_type": "code",
   "execution_count": 15,
   "metadata": {},
   "outputs": [],
   "source": [
    "train_data,test_data=df_closed_incidents.randomSplit([0.7,0.3])"
   ]
  },
  {
   "cell_type": "code",
   "execution_count": 16,
   "metadata": {},
   "outputs": [],
   "source": [
    "from pyspark.ml.feature import StringIndexer\n",
    "# Use StringIndexer to convert the categorical columns to hold numerical data\n",
    " \n",
    "opened_by_indexer = StringIndexer(inputCol='opened_by',outputCol='opened_by_index',handleInvalid='keep')\n",
    "location_indexer = StringIndexer(inputCol='location',outputCol='location_index',handleInvalid='keep')\n",
    "category_indexer = StringIndexer(inputCol='category',outputCol='category_index',handleInvalid='keep')\n",
    "subcategory_indexer = StringIndexer(inputCol='subcategory',outputCol='subcategory_index',handleInvalid='keep')\n",
    "priority_indexer = StringIndexer(inputCol='priority',outputCol='priority_index',handleInvalid='keep')\n",
    "assignment_group_indexer = StringIndexer(inputCol='assignment_group',outputCol='assignment_group_index',handleInvalid='keep')\n",
    "assigned_to_indexer = StringIndexer(inputCol='assigned_to',outputCol='assigned_to_index',handleInvalid='keep')\n",
    "knowledge_indexer = StringIndexer(inputCol='knowledge',outputCol='knowledge_index',handleInvalid='keep')\n",
    "resolved_by_indexer = StringIndexer(inputCol='resolved_by',outputCol='resolved_by_index',handleInvalid='keep')"
   ]
  },
  {
   "cell_type": "code",
   "execution_count": 17,
   "metadata": {},
   "outputs": [],
   "source": [
    "from pyspark.ml.feature import VectorAssembler\n",
    "# Vector assembler is used to create a vector of input features\n",
    " \n",
    "assembler = VectorAssembler(\n",
    "    inputCols=[\n",
    "        \"opened_by_index\",\n",
    "        'location_index',\n",
    "        'category_index',\n",
    "        'subcategory_index',\n",
    "        'priority_index',\n",
    "        'assignment_group_index',\n",
    "        'assigned_to_index',\n",
    "        'knowledge_index',\n",
    "        'resolved_by_index'\n",
    "    ],\n",
    "    outputCol=\"features\"\n",
    ")"
   ]
  },
  {
   "cell_type": "code",
   "execution_count": 18,
   "metadata": {},
   "outputs": [],
   "source": [
    "from pyspark.ml import Pipeline\n",
    "\n",
    "# Pipeline is used to pass the data through indexer and assembler simultaneously. Also, it helps to pre-rocess the test data\n",
    "# in the same way as that of the train data\n",
    "# https://spark.apache.org/docs/latest/ml-pipeline.html\n",
    " \n",
    "pipe = Pipeline(stages=[\n",
    "    opened_by_indexer,\n",
    "    location_indexer,\n",
    "    category_indexer,\n",
    "    subcategory_indexer,\n",
    "    priority_indexer,\n",
    "    assignment_group_indexer,\n",
    "    assigned_to_indexer,\n",
    "    knowledge_indexer,\n",
    "    resolved_by_indexer,\n",
    "    assembler\n",
    "    ]\n",
    ")"
   ]
  },
  {
   "cell_type": "code",
   "execution_count": 19,
   "metadata": {},
   "outputs": [],
   "source": [
    "fitted_pipe=pipe.fit(train_data)"
   ]
  },
  {
   "cell_type": "code",
   "execution_count": 20,
   "metadata": {},
   "outputs": [
    {
     "name": "stdout",
     "output_type": "stream",
     "text": [
      "+------------------+------------+-------------+--------------+------------+-----------+---------------+------------+----------------+------------+---------+--------------+--------+---------------+--------------+--------------+-----------------+--------------+----------------------+-----------------+---------------+-----------------+--------------------+\n",
      "|reassignment_count|reopen_count|sys_mod_count|     opened_by|    location|   category|    subcategory|    priority|assignment_group| assigned_to|knowledge|   resolved_by|duration|opened_by_index|location_index|category_index|subcategory_index|priority_index|assignment_group_index|assigned_to_index|knowledge_index|resolved_by_index|            features|\n",
      "+------------------+------------+-------------+--------------+------------+-----------+---------------+------------+----------------+------------+---------+--------------+--------+---------------+--------------+--------------+-----------------+--------------+----------------------+-----------------+---------------+-----------------+--------------------+\n",
      "|                 0|           0|            1|             ?|Location 111|Category 32|Subcategory 174|3 - Moderate|               ?| Resolver 94|    false|             ?|       0|            8.0|           9.0|           4.0|              0.0|           0.0|                   1.0|              6.0|            0.0|            113.0|[8.0,9.0,4.0,0.0,...|\n",
      "|                 0|           0|            1|             ?|Location 143|Category 23|Subcategory 174|3 - Moderate|        Group 20| Resolver 33|    false|             ?|       0|            8.0|           2.0|           7.0|              0.0|           0.0|                  10.0|              9.0|            0.0|            113.0|[8.0,2.0,7.0,0.0,...|\n",
      "|                 0|           0|            1|             ?|Location 143|Category 32|Subcategory 174|3 - Moderate|               ?|Resolver 127|    false|             ?|       0|            8.0|           2.0|           4.0|              0.0|           0.0|                   1.0|             55.0|            0.0|            113.0|[8.0,2.0,4.0,0.0,...|\n",
      "|                 0|           0|            1|             ?|Location 204|Category 23|  Subcategory 3|3 - Moderate|        Group 20| Resolver 94|    false|             ?|       0|            8.0|           0.0|           7.0|             13.0|           0.0|                  10.0|              6.0|            0.0|            113.0|[8.0,0.0,7.0,13.0...|\n",
      "|                 0|           0|            1|             ?|Location 204|Category 32|Subcategory 174|3 - Moderate|               ?| Resolver 94|    false|             ?|       0|            8.0|           0.0|           4.0|              0.0|           0.0|                   1.0|              6.0|            0.0|            113.0|[8.0,0.0,4.0,0.0,...|\n",
      "|                 0|           0|            1|             ?| Location 43|Category 32|Subcategory 174|3 - Moderate|               ?| Resolver 94|    false|             ?|       0|            8.0|           8.0|           4.0|              0.0|           0.0|                   1.0|              6.0|            0.0|            113.0|[8.0,8.0,4.0,0.0,...|\n",
      "|                 0|           0|            1|             ?| Location 51|Category 32|Subcategory 174|3 - Moderate|               ?|Resolver 127|    false|             ?|       0|            8.0|           5.0|           4.0|              0.0|           0.0|                   1.0|             55.0|            0.0|            113.0|[8.0,5.0,4.0,0.0,...|\n",
      "|                 0|           0|            1|             ?| Location 51|Category 32|Subcategory 174|3 - Moderate|               ?| Resolver 17|    false|             ?|       0|            8.0|           5.0|           4.0|              0.0|           0.0|                   1.0|              1.0|            0.0|            113.0|[8.0,5.0,4.0,0.0,...|\n",
      "|                 0|           0|            1|             ?| Location 51|Category 32|Subcategory 174|3 - Moderate|               ?| Resolver 94|    false|             ?|       0|            8.0|           5.0|           4.0|              0.0|           0.0|                   1.0|              6.0|            0.0|            113.0|[8.0,5.0,4.0,0.0,...|\n",
      "|                 0|           0|            1|Opened by  108|Location 143|Category 46|Subcategory 223|3 - Moderate|        Group 55| Resolver 56|    false|Resolved by 52|       0|            4.0|           2.0|           3.0|              1.0|           0.0|                  16.0|             25.0|            0.0|             25.0|[4.0,2.0,3.0,1.0,...|\n",
      "|                 0|           0|            1|Opened by  124|Location 143|Category 23|Subcategory 174|3 - Moderate|        Group 20| Resolver 69|    false|Resolved by 62|       0|           33.0|           2.0|           7.0|              0.0|           0.0|                  10.0|              8.0|            0.0|              6.0|[33.0,2.0,7.0,0.0...|\n",
      "|                 0|           0|            1|Opened by  124|Location 143|Category 23|  Subcategory 3|3 - Moderate|        Group 20| Resolver 69|    false|Resolved by 62|       0|           33.0|           2.0|           7.0|             13.0|           0.0|                  10.0|              8.0|            0.0|              6.0|[33.0,2.0,7.0,13....|\n",
      "|                 0|           0|            1|Opened by  124| Location 71|Category 28|Subcategory 174|3 - Moderate|        Group 23| Resolver 69|    false|Resolved by 62|       0|           33.0|          41.0|          14.0|              0.0|           0.0|                   5.0|              8.0|            0.0|              6.0|[33.0,41.0,14.0,0...|\n",
      "|                 0|           0|            1|Opened by  124| Location 71|Category 28|Subcategory 174|3 - Moderate|        Group 23| Resolver 69|    false|Resolved by 62|       0|           33.0|          41.0|          14.0|              0.0|           0.0|                   5.0|              8.0|            0.0|              6.0|[33.0,41.0,14.0,0...|\n",
      "|                 0|           0|            1|Opened by  124| Location 93|Category 23|  Subcategory 3|3 - Moderate|        Group 20| Resolver 69|    false|Resolved by 62|       0|           33.0|           4.0|           7.0|             13.0|           0.0|                  10.0|              8.0|            0.0|              6.0|[33.0,4.0,7.0,13....|\n",
      "|                 0|           0|            1|Opened by  124| Location 93|Category 23|  Subcategory 3|3 - Moderate|        Group 20| Resolver 69|    false|Resolved by 62|       0|           33.0|           4.0|           7.0|             13.0|           0.0|                  10.0|              8.0|            0.0|              6.0|[33.0,4.0,7.0,13....|\n",
      "|                 0|           0|            1|Opened by  124| Location 93|Category 23|  Subcategory 3|3 - Moderate|        Group 20| Resolver 69|    false|Resolved by 62|       0|           33.0|           4.0|           7.0|             13.0|           0.0|                  10.0|              8.0|            0.0|              6.0|[33.0,4.0,7.0,13....|\n",
      "|                 0|           0|            1|Opened by  124| Location 93| Category 9|Subcategory 174|3 - Moderate|        Group 23| Resolver 69|    false|Resolved by 62|       0|           33.0|           4.0|           5.0|              0.0|           0.0|                   5.0|              8.0|            0.0|              6.0|[33.0,4.0,5.0,0.0...|\n",
      "|                 0|           0|            1|Opened by  124| Location 93| Category 9|Subcategory 174|3 - Moderate|        Group 23| Resolver 69|    false|Resolved by 62|       0|           33.0|           4.0|           5.0|              0.0|           0.0|                   5.0|              8.0|            0.0|              6.0|[33.0,4.0,5.0,0.0...|\n",
      "|                 0|           0|            1|Opened by  157|Location 111|Category 37|Subcategory 285|3 - Moderate|        Group 46| Resolver 83|    false|Resolved by 76|       0|           42.0|           9.0|           6.0|             51.0|           0.0|                  26.0|             34.0|            0.0|             34.0|[42.0,9.0,6.0,51....|\n",
      "+------------------+------------+-------------+--------------+------------+-----------+---------------+------------+----------------+------------+---------+--------------+--------+---------------+--------------+--------------+-----------------+--------------+----------------------+-----------------+---------------+-----------------+--------------------+\n",
      "only showing top 20 rows\n",
      "\n"
     ]
    }
   ],
   "source": [
    "train_data=fitted_pipe.transform(train_data)\n",
    "train_data.show()"
   ]
  },
  {
   "cell_type": "code",
   "execution_count": 21,
   "metadata": {},
   "outputs": [
    {
     "name": "stdout",
     "output_type": "stream",
     "text": [
      "+------------------+------------+-------------+--------------+------------+-----------+---------------+------------+----------------+------------+---------+--------------+--------+---------------+--------------+--------------+-----------------+--------------+----------------------+-----------------+---------------+-----------------+--------------------+\n",
      "|reassignment_count|reopen_count|sys_mod_count|     opened_by|    location|   category|    subcategory|    priority|assignment_group| assigned_to|knowledge|   resolved_by|duration|opened_by_index|location_index|category_index|subcategory_index|priority_index|assignment_group_index|assigned_to_index|knowledge_index|resolved_by_index|            features|\n",
      "+------------------+------------+-------------+--------------+------------+-----------+---------------+------------+----------------+------------+---------+--------------+--------+---------------+--------------+--------------+-----------------+--------------+----------------------+-----------------+---------------+-----------------+--------------------+\n",
      "|                 0|           0|            1|             ?|Location 108|Category 43|Subcategory 107|3 - Moderate|        Group 22| Resolver 94|    false|             ?|       0|            8.0|           3.0|          20.0|             46.0|           0.0|                  20.0|              6.0|            0.0|            113.0|[8.0,3.0,20.0,46....|\n",
      "|                 0|           0|            1|             ?|Location 111|Category 32|Subcategory 174|3 - Moderate|               ?|Resolver 127|    false|             ?|       0|            8.0|           9.0|           4.0|              0.0|           0.0|                   1.0|             55.0|            0.0|            113.0|[8.0,9.0,4.0,0.0,...|\n",
      "|                 0|           0|            1|             ?|Location 143|Category 32|Subcategory 174|3 - Moderate|               ?| Resolver 94|    false|             ?|       0|            8.0|           2.0|           4.0|              0.0|           0.0|                   1.0|              6.0|            0.0|            113.0|[8.0,2.0,4.0,0.0,...|\n",
      "|                 0|           0|            1|             ?| Location 15|Category 32|Subcategory 174|3 - Moderate|               ?| Resolver 17|    false|             ?|       0|            8.0|          21.0|           4.0|              0.0|           0.0|                   1.0|              1.0|            0.0|            113.0|[8.0,21.0,4.0,0.0...|\n",
      "|                 0|           0|            1|             ?|Location 204|Category 32|Subcategory 174|3 - Moderate|               ?|Resolver 127|    false|             ?|       0|            8.0|           0.0|           4.0|              0.0|           0.0|                   1.0|             55.0|            0.0|            113.0|[8.0,0.0,4.0,0.0,...|\n",
      "|                 0|           0|            1|             ?| Location 33|Category 53|Subcategory 174|3 - Moderate|               ?| Resolver 17|    false|             ?|       0|            8.0|          31.0|           2.0|              0.0|           0.0|                   1.0|              1.0|            0.0|            113.0|[8.0,31.0,2.0,0.0...|\n",
      "|                 0|           0|            1|             ?| Location 42|Category 44|Subcategory 174|3 - Moderate|         Group 5| Resolver 17|    false|             ?|       0|            8.0|          17.0|          18.0|              0.0|           0.0|                  29.0|              1.0|            0.0|            113.0|[8.0,17.0,18.0,0....|\n",
      "|                 0|           0|            1|             ?| Location 93|Category 32|Subcategory 174|3 - Moderate|               ?|Resolver 128|    false|             ?|       0|            8.0|           4.0|           4.0|              0.0|           0.0|                   1.0|            159.0|            0.0|            113.0|[8.0,4.0,4.0,0.0,...|\n",
      "|                 0|           0|            1|Opened by  124| Location 93| Category 9|Subcategory 174|3 - Moderate|        Group 23| Resolver 69|    false|Resolved by 62|       0|           33.0|           4.0|           5.0|              0.0|           0.0|                   5.0|              8.0|            0.0|              6.0|[33.0,4.0,5.0,0.0...|\n",
      "|                 0|           0|            1|Opened by  168|Location 161|Category 24|Subcategory 174|3 - Moderate|        Group 24| Resolver 89|    false|Resolved by 81|       0|           34.0|           1.0|          11.0|              0.0|           0.0|                   4.0|             35.0|            0.0|             32.0|[34.0,1.0,11.0,0....|\n",
      "|                 0|           0|            1|Opened by  168|Location 161|Category 24|Subcategory 174|3 - Moderate|        Group 24| Resolver 89|    false|Resolved by 81|       0|           34.0|           1.0|          11.0|              0.0|           0.0|                   4.0|             35.0|            0.0|             32.0|[34.0,1.0,11.0,0....|\n",
      "|                 0|           0|            1|Opened by  168|Location 161|Category 24|Subcategory 174|3 - Moderate|        Group 24| Resolver 89|    false|Resolved by 81|       0|           34.0|           1.0|          11.0|              0.0|           0.0|                   4.0|             35.0|            0.0|             32.0|[34.0,1.0,11.0,0....|\n",
      "|                 0|           0|            1|Opened by  168|Location 161|Category 24|Subcategory 174|3 - Moderate|        Group 24| Resolver 89|    false|Resolved by 81|       0|           34.0|           1.0|          11.0|              0.0|           0.0|                   4.0|             35.0|            0.0|             32.0|[34.0,1.0,11.0,0....|\n",
      "|                 0|           0|            1|Opened by  168|Location 161|Category 24|Subcategory 174|3 - Moderate|        Group 24| Resolver 89|    false|Resolved by 81|       0|           34.0|           1.0|          11.0|              0.0|           0.0|                   4.0|             35.0|            0.0|             32.0|[34.0,1.0,11.0,0....|\n",
      "|                 0|           0|            1|Opened by  168|Location 161|Category 24|Subcategory 174|3 - Moderate|        Group 24| Resolver 89|    false|Resolved by 81|       0|           34.0|           1.0|          11.0|              0.0|           0.0|                   4.0|             35.0|            0.0|             32.0|[34.0,1.0,11.0,0....|\n",
      "|                 0|           0|            1|Opened by  168|Location 161|Category 57|Subcategory 138|3 - Moderate|        Group 33| Resolver 89|    false|Resolved by 81|       0|           34.0|           1.0|           9.0|            169.0|           0.0|                  21.0|             35.0|            0.0|             32.0|[34.0,1.0,9.0,169...|\n",
      "|                 0|           0|            1|Opened by  168|Location 229|Category 24|Subcategory 174|3 - Moderate|        Group 24| Resolver 89|    false|Resolved by 81|       0|           34.0|          24.0|          11.0|              0.0|           0.0|                   4.0|             35.0|            0.0|             32.0|[34.0,24.0,11.0,0...|\n",
      "|                 0|           0|            1| Opened by  17|Location 108|Category 57|Subcategory 185|3 - Moderate|        Group 24| Resolver 13|    false|Resolved by 11|       0|            0.0|           3.0|           9.0|             29.0|           0.0|                   4.0|              0.0|            0.0|              0.0|(9,[1,2,3,5],[3.0...|\n",
      "|                 0|           0|            1| Opened by  17|Location 135|Category 23| Subcategory 75|3 - Moderate|        Group 20| Resolver 13|    false|Resolved by 11|       0|            0.0|          14.0|           7.0|             15.0|           0.0|                  10.0|              0.0|            0.0|              0.0|(9,[1,2,3,5],[14....|\n",
      "|                 0|           0|            1| Opened by  17|Location 143|Category 23|Subcategory 174|3 - Moderate|        Group 20| Resolver 13|    false|Resolved by 11|       0|            0.0|           2.0|           7.0|              0.0|           0.0|                  10.0|              0.0|            0.0|              0.0|(9,[1,2,5],[2.0,7...|\n",
      "+------------------+------------+-------------+--------------+------------+-----------+---------------+------------+----------------+------------+---------+--------------+--------+---------------+--------------+--------------+-----------------+--------------+----------------------+-----------------+---------------+-----------------+--------------------+\n",
      "only showing top 20 rows\n",
      "\n"
     ]
    }
   ],
   "source": [
    "test_data=fitted_pipe.transform(test_data)\n",
    "test_data.show()"
   ]
  },
  {
   "cell_type": "code",
   "execution_count": 22,
   "metadata": {},
   "outputs": [
    {
     "name": "stderr",
     "output_type": "stream",
     "text": [
      "23/10/26 15:19:38 WARN Instrumentation: [a81c48bd] regParam is zero, which might cause numerical instability and overfitting.\n"
     ]
    }
   ],
   "source": [
    "# For those interested in utilizing the ML/AI power of Tensorflow with Spark....\n",
    "# https://github.com/tensorflow/ecosystem/tree/master/spark/spark-tensorflow-distributor\n",
    "\n",
    "# In this course, we'll use the SparkML (admitedely, it's not as powerful as Tensorflow, but \n",
    "# it's easy to use and demonstrate ML on a Spark Cluster)\n",
    "\n",
    "from pyspark.ml.regression import LinearRegression\n",
    "\n",
    "lr_model = LinearRegression(labelCol='duration')\n",
    "fit_model = lr_model.fit(train_data.select(['features','duration']))\n"
   ]
  },
  {
   "cell_type": "code",
   "execution_count": 23,
   "metadata": {},
   "outputs": [
    {
     "name": "stdout",
     "output_type": "stream",
     "text": [
      "+------------------+------------+-------------+--------------+------------+-----------+---------------+------------+----------------+------------+---------+--------------+--------+---------------+--------------+--------------+-----------------+--------------+----------------------+-----------------+---------------+-----------------+--------------------+------------------+\n",
      "|reassignment_count|reopen_count|sys_mod_count|     opened_by|    location|   category|    subcategory|    priority|assignment_group| assigned_to|knowledge|   resolved_by|duration|opened_by_index|location_index|category_index|subcategory_index|priority_index|assignment_group_index|assigned_to_index|knowledge_index|resolved_by_index|            features|        prediction|\n",
      "+------------------+------------+-------------+--------------+------------+-----------+---------------+------------+----------------+------------+---------+--------------+--------+---------------+--------------+--------------+-----------------+--------------+----------------------+-----------------+---------------+-----------------+--------------------+------------------+\n",
      "|                 0|           0|            1|             ?|Location 108|Category 43|Subcategory 107|3 - Moderate|        Group 22| Resolver 94|    false|             ?|       0|            8.0|           3.0|          20.0|             46.0|           0.0|                  20.0|              6.0|            0.0|            113.0|[8.0,3.0,20.0,46....| 8.404583441744268|\n",
      "|                 0|           0|            1|             ?|Location 111|Category 32|Subcategory 174|3 - Moderate|               ?|Resolver 127|    false|             ?|       0|            8.0|           9.0|           4.0|              0.0|           0.0|                   1.0|             55.0|            0.0|            113.0|[8.0,9.0,4.0,0.0,...|0.2547233818362512|\n",
      "|                 0|           0|            1|             ?|Location 143|Category 32|Subcategory 174|3 - Moderate|               ?| Resolver 94|    false|             ?|       0|            8.0|           2.0|           4.0|              0.0|           0.0|                   1.0|              6.0|            0.0|            113.0|[8.0,2.0,4.0,0.0,...| -4.22413012244369|\n",
      "|                 0|           0|            1|             ?| Location 15|Category 32|Subcategory 174|3 - Moderate|               ?| Resolver 17|    false|             ?|       0|            8.0|          21.0|           4.0|              0.0|           0.0|                   1.0|              1.0|            0.0|            113.0|[8.0,21.0,4.0,0.0...|-5.130376022163256|\n",
      "|                 0|           0|            1|             ?|Location 204|Category 32|Subcategory 174|3 - Moderate|               ?|Resolver 127|    false|             ?|       0|            8.0|           0.0|           4.0|              0.0|           0.0|                   1.0|             55.0|            0.0|            113.0|[8.0,0.0,4.0,0.0,...|0.4598020920678584|\n",
      "|                 0|           0|            1|             ?| Location 33|Category 53|Subcategory 174|3 - Moderate|               ?| Resolver 17|    false|             ?|       0|            8.0|          31.0|           2.0|              0.0|           0.0|                   1.0|              1.0|            0.0|            113.0|[8.0,31.0,2.0,0.0...| -5.76256244943567|\n",
      "|                 0|           0|            1|             ?| Location 42|Category 44|Subcategory 174|3 - Moderate|         Group 5| Resolver 17|    false|             ?|       0|            8.0|          17.0|          18.0|              0.0|           0.0|                  29.0|              1.0|            0.0|            113.0|[8.0,17.0,18.0,0....|   10.802162486883|\n",
      "|                 0|           0|            1|             ?| Location 93|Category 32|Subcategory 174|3 - Moderate|               ?|Resolver 128|    false|             ?|       0|            8.0|           4.0|           4.0|              0.0|           0.0|                   1.0|            159.0|            0.0|            113.0|[8.0,4.0,4.0,0.0,...|10.213336681295155|\n",
      "|                 0|           0|            1|Opened by  124| Location 93| Category 9|Subcategory 174|3 - Moderate|        Group 23| Resolver 69|    false|Resolved by 62|       0|           33.0|           4.0|           5.0|              0.0|           0.0|                   5.0|              8.0|            0.0|              6.0|[33.0,4.0,5.0,0.0...| 4.482917557095654|\n",
      "|                 0|           0|            1|Opened by  168|Location 161|Category 24|Subcategory 174|3 - Moderate|        Group 24| Resolver 89|    false|Resolved by 81|       0|           34.0|           1.0|          11.0|              0.0|           0.0|                   4.0|             35.0|            0.0|             32.0|[34.0,1.0,11.0,0....|6.2164837280935075|\n",
      "|                 0|           0|            1|Opened by  168|Location 161|Category 24|Subcategory 174|3 - Moderate|        Group 24| Resolver 89|    false|Resolved by 81|       0|           34.0|           1.0|          11.0|              0.0|           0.0|                   4.0|             35.0|            0.0|             32.0|[34.0,1.0,11.0,0....|6.2164837280935075|\n",
      "|                 0|           0|            1|Opened by  168|Location 161|Category 24|Subcategory 174|3 - Moderate|        Group 24| Resolver 89|    false|Resolved by 81|       0|           34.0|           1.0|          11.0|              0.0|           0.0|                   4.0|             35.0|            0.0|             32.0|[34.0,1.0,11.0,0....|6.2164837280935075|\n",
      "|                 0|           0|            1|Opened by  168|Location 161|Category 24|Subcategory 174|3 - Moderate|        Group 24| Resolver 89|    false|Resolved by 81|       0|           34.0|           1.0|          11.0|              0.0|           0.0|                   4.0|             35.0|            0.0|             32.0|[34.0,1.0,11.0,0....|6.2164837280935075|\n",
      "|                 0|           0|            1|Opened by  168|Location 161|Category 24|Subcategory 174|3 - Moderate|        Group 24| Resolver 89|    false|Resolved by 81|       0|           34.0|           1.0|          11.0|              0.0|           0.0|                   4.0|             35.0|            0.0|             32.0|[34.0,1.0,11.0,0....|6.2164837280935075|\n",
      "|                 0|           0|            1|Opened by  168|Location 161|Category 24|Subcategory 174|3 - Moderate|        Group 24| Resolver 89|    false|Resolved by 81|       0|           34.0|           1.0|          11.0|              0.0|           0.0|                   4.0|             35.0|            0.0|             32.0|[34.0,1.0,11.0,0....|6.2164837280935075|\n",
      "|                 0|           0|            1|Opened by  168|Location 161|Category 57|Subcategory 138|3 - Moderate|        Group 33| Resolver 89|    false|Resolved by 81|       0|           34.0|           1.0|           9.0|            169.0|           0.0|                  21.0|             35.0|            0.0|             32.0|[34.0,1.0,9.0,169...| 15.87182587673362|\n",
      "|                 0|           0|            1|Opened by  168|Location 229|Category 24|Subcategory 174|3 - Moderate|        Group 24| Resolver 89|    false|Resolved by 81|       0|           34.0|          24.0|          11.0|              0.0|           0.0|                   4.0|             35.0|            0.0|             32.0|[34.0,24.0,11.0,0...| 5.692393690834956|\n",
      "|                 0|           0|            1| Opened by  17|Location 108|Category 57|Subcategory 185|3 - Moderate|        Group 24| Resolver 13|    false|Resolved by 11|       0|            0.0|           3.0|           9.0|             29.0|           0.0|                   4.0|              0.0|            0.0|              0.0|(9,[1,2,3,5],[3.0...| 5.113970510698998|\n",
      "|                 0|           0|            1| Opened by  17|Location 135|Category 23| Subcategory 75|3 - Moderate|        Group 20| Resolver 13|    false|Resolved by 11|       0|            0.0|          14.0|           7.0|             15.0|           0.0|                  10.0|              0.0|            0.0|              0.0|(9,[1,2,3,5],[14....|  7.06816162023801|\n",
      "|                 0|           0|            1| Opened by  17|Location 143|Category 23|Subcategory 174|3 - Moderate|        Group 20| Resolver 13|    false|Resolved by 11|       0|            0.0|           2.0|           7.0|              0.0|           0.0|                  10.0|              0.0|            0.0|              0.0|(9,[1,2,5],[2.0,7...| 7.149880359440196|\n",
      "+------------------+------------+-------------+--------------+------------+-----------+---------------+------------+----------------+------------+---------+--------------+--------+---------------+--------------+--------------+-----------------+--------------+----------------------+-----------------+---------------+-----------------+--------------------+------------------+\n",
      "only showing top 20 rows\n",
      "\n"
     ]
    }
   ],
   "source": [
    "results = fit_model.transform(test_data)\n",
    "results.show()"
   ]
  },
  {
   "cell_type": "code",
   "execution_count": 24,
   "metadata": {},
   "outputs": [
    {
     "name": "stdout",
     "output_type": "stream",
     "text": [
      "+--------+------------------+\n",
      "|duration|        prediction|\n",
      "+--------+------------------+\n",
      "|       0| 8.404583441744268|\n",
      "|       0|0.2547233818362512|\n",
      "|       0| -4.22413012244369|\n",
      "|       0|-5.130376022163256|\n",
      "|       0|0.4598020920678584|\n",
      "|       0| -5.76256244943567|\n",
      "|       0|   10.802162486883|\n",
      "|       0|10.213336681295155|\n",
      "|       0| 4.482917557095654|\n",
      "|       0|6.2164837280935075|\n",
      "|       0|6.2164837280935075|\n",
      "|       0|6.2164837280935075|\n",
      "|       0|6.2164837280935075|\n",
      "|       0|6.2164837280935075|\n",
      "|       0|6.2164837280935075|\n",
      "|       0| 15.87182587673362|\n",
      "|       0| 5.692393690834956|\n",
      "|       0| 5.113970510698998|\n",
      "|       0|  7.06816162023801|\n",
      "|       0| 7.149880359440196|\n",
      "+--------+------------------+\n",
      "only showing top 20 rows\n",
      "\n"
     ]
    }
   ],
   "source": [
    "results.select(['duration','prediction']).show()"
   ]
  },
  {
   "attachments": {},
   "cell_type": "markdown",
   "metadata": {},
   "source": [
    "## Evaluate the peformance of the Linear Regression Model"
   ]
  },
  {
   "cell_type": "code",
   "execution_count": 25,
   "metadata": {},
   "outputs": [],
   "source": [
    "test_results = fit_model.evaluate(test_data)"
   ]
  },
  {
   "cell_type": "code",
   "execution_count": 26,
   "metadata": {},
   "outputs": [
    {
     "name": "stdout",
     "output_type": "stream",
     "text": [
      "+-------------------+\n",
      "|          residuals|\n",
      "+-------------------+\n",
      "| -8.404583441744268|\n",
      "|-0.2547233818362512|\n",
      "|   4.22413012244369|\n",
      "|  5.130376022163256|\n",
      "|-0.4598020920678584|\n",
      "|   5.76256244943567|\n",
      "|   -10.802162486883|\n",
      "|-10.213336681295155|\n",
      "| -4.482917557095654|\n",
      "|-6.2164837280935075|\n",
      "|-6.2164837280935075|\n",
      "|-6.2164837280935075|\n",
      "|-6.2164837280935075|\n",
      "|-6.2164837280935075|\n",
      "|-6.2164837280935075|\n",
      "| -15.87182587673362|\n",
      "| -5.692393690834956|\n",
      "| -5.113970510698998|\n",
      "|  -7.06816162023801|\n",
      "| -7.149880359440196|\n",
      "+-------------------+\n",
      "only showing top 20 rows\n",
      "\n"
     ]
    }
   ],
   "source": [
    "test_results.residuals.show()"
   ]
  },
  {
   "cell_type": "code",
   "execution_count": 27,
   "metadata": {},
   "outputs": [
    {
     "name": "stdout",
     "output_type": "stream",
     "text": [
      "RMSE:    21.640\n",
      "Ex Var:  45.647\n",
      "MAE:      9.126\n",
      "MSE:    468.289\n",
      "RMSE:    21.640\n",
      "R2:       0.076\n"
     ]
    }
   ],
   "source": [
    "print(f\"{'RMSE:':7s} {test_results.rootMeanSquaredError:>7.3f}\")\n",
    "print(f\"{'Ex Var:':7s} {test_results.explainedVariance:>7.3f}\")\n",
    "print(f\"{'MAE:':7s} {test_results.meanAbsoluteError:>7.3f}\")\n",
    "print(f\"{'MSE:':7s} {test_results.meanSquaredError:>7.3f}\")\n",
    "print(f\"{'RMSE:':7s} {test_results.rootMeanSquaredError:>7.3f}\")\n",
    "print(f\"{'R2:':7s} {test_results.r2:>7.3f}\")"
   ]
  },
  {
   "cell_type": "code",
   "execution_count": 28,
   "metadata": {},
   "outputs": [],
   "source": [
    "spark.stop()"
   ]
  }
 ],
 "metadata": {
  "kernelspec": {
   "display_name": "Python 3 (ipykernel)",
   "language": "python",
   "name": "python3"
  },
  "language_info": {
   "codemirror_mode": {
    "name": "ipython",
    "version": 3
   },
   "file_extension": ".py",
   "mimetype": "text/x-python",
   "name": "python",
   "nbconvert_exporter": "python",
   "pygments_lexer": "ipython3",
   "version": "3.11.5"
  }
 },
 "nbformat": 4,
 "nbformat_minor": 4
}
