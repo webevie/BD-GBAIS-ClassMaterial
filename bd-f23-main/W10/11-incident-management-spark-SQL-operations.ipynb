{
 "cells": [
  {
   "cell_type": "code",
   "execution_count": 1,
   "metadata": {},
   "outputs": [
    {
     "name": "stderr",
     "output_type": "stream",
     "text": [
      "23/10/26 15:17:35 WARN Utils: Your hostname, localhost.localdomain resolves to a loopback address: 127.0.0.1; using 10.21.5.100 instead (on interface eth0)\n",
      "23/10/26 15:17:35 WARN Utils: Set SPARK_LOCAL_IP if you need to bind to another address\n",
      "Setting default log level to \"WARN\".\n",
      "To adjust logging level use sc.setLogLevel(newLevel). For SparkR, use setLogLevel(newLevel).\n",
      "23/10/26 15:17:35 WARN NativeCodeLoader: Unable to load native-hadoop library for your platform... using builtin-java classes where applicable\n"
     ]
    },
    {
     "name": "stdout",
     "output_type": "stream",
     "text": [
      "Spark Session WebUI Port: 4040\n"
     ]
    }
   ],
   "source": [
    "from pyspark.sql import SparkSession;\n",
    "\n",
    "# warehouse_location points to the default location for managed databases and tables\n",
    "from os.path import abspath\n",
    "warehouse_location = abspath('spark-warehouse')\n",
    "\n",
    "spark = SparkSession \\\n",
    "    .builder \\\n",
    "    .master(\"local[*]\") \\\n",
    "    .appName(\"ISM6562 PySpark Tutorials\") \\\n",
    "    .config(\"spark.sql.warehouse.dir\", warehouse_location) \\\n",
    "    .enableHiveSupport() \\\n",
    "    .getOrCreate()\n",
    "\n",
    "\n",
    "# Let's get the SparkContext object. It's the entry point to the Spark API. It's created when you create a sparksession\n",
    "sc = spark.sparkContext\n",
    "\n",
    "# note: If you have multiple spark sessions running (like from a previous notebook you've run), \n",
    "# this spark session webUI will be on a different port than the default (4040). One way to \n",
    "# identify this part is with the following line. If there was only one spark session running, \n",
    "# this will be 4040. If it's higher, it means there are still other spark sesssions still running.\n",
    "spark_session_port = spark.sparkContext.uiWebUrl.split(\":\")[-1]\n",
    "print(\"Spark Session WebUI Port: \" + spark_session_port)"
   ]
  },
  {
   "cell_type": "code",
   "execution_count": 2,
   "metadata": {},
   "outputs": [
    {
     "name": "stderr",
     "output_type": "stream",
     "text": [
      "23/10/26 15:17:39 WARN HiveConf: HiveConf of name hive.stats.jdbc.timeout does not exist\n",
      "23/10/26 15:17:39 WARN HiveConf: HiveConf of name hive.stats.retries.wait does not exist\n",
      "23/10/26 15:17:43 WARN ObjectStore: Version information not found in metastore. hive.metastore.schema.verification is not enabled so recording the schema version 2.3.0\n",
      "23/10/26 15:17:43 WARN ObjectStore: setMetaStoreSchemaVersion called but recording version is disabled: version = 2.3.0, comment = Set by MetaStore student@127.0.0.1\n",
      "23/10/26 15:17:43 WARN ObjectStore: Failed to get database global_temp, returning NoSuchObjectException\n"
     ]
    },
    {
     "name": "stdout",
     "output_type": "stream",
     "text": [
      "+---------+------------+-----------+\n",
      "|namespace|   tableName|isTemporary|\n",
      "+---------+------------+-----------+\n",
      "|  default|fake_friends|      false|\n",
      "|  default|   incidents|      false|\n",
      "|  default|movieratings|      false|\n",
      "|  default|      movies|      false|\n",
      "+---------+------------+-----------+\n",
      "\n"
     ]
    }
   ],
   "source": [
    "spark.sql(\"show tables\").show()"
   ]
  },
  {
   "cell_type": "code",
   "execution_count": 3,
   "metadata": {},
   "outputs": [
    {
     "name": "stderr",
     "output_type": "stream",
     "text": [
      "23/10/26 15:17:46 WARN SparkStringUtils: Truncated the string representation of a plan since it was too large. This behavior can be adjusted by setting 'spark.sql.debug.maxToStringFields'.\n"
     ]
    },
    {
     "name": "stdout",
     "output_type": "stream",
     "text": [
      "+----------+--------------+------+------------------+------------+-------------+--------+-----------+--------------+---------------+--------------+---------------+--------------+--------------+------------+------------+-----------+---------------+-----------+-------+----------+----------+------------+----------------+------------+---------+-----------------------+-------------+-------------+---+------+---------+-----------+---------------+---------------+--------------+\n",
      "|    number|incident_state|active|reassignment_count|reopen_count|sys_mod_count|made_sla|  caller_id|     opened_by|      opened_at|sys_created_by| sys_created_at|sys_updated_by|sys_updated_at|contact_type|    location|   category|    subcategory|  u_symptom|cmdb_ci|    impact|   urgency|    priority|assignment_group| assigned_to|knowledge|u_priority_confirmation|       notify|   problem_id|rfc|vendor|caused_by|closed_code|    resolved_by|    resolved_at|     closed_at|\n",
      "+----------+--------------+------+------------------+------------+-------------+--------+-----------+--------------+---------------+--------------+---------------+--------------+--------------+------------+------------+-----------+---------------+-----------+-------+----------+----------+------------+----------------+------------+---------+-----------------------+-------------+-------------+---+------+---------+-----------+---------------+---------------+--------------+\n",
      "|INC0000045|        Closed| false|                 0|           0|            4|    true|Caller 2403|  Opened by  8|29/2/2016 01:16|  Created by 6|29/2/2016 01:23|Updated by 908|5/3/2016 12:00|       Phone|Location 143|Category 55|Subcategory 170| Symptom 72|      ?|2 - Medium|2 - Medium|3 - Moderate|        Group 56|           ?|     true|                  false|Do Not Notify|            ?|  ?|     ?|        ?|     code 5|Resolved by 149|29/2/2016 11:29|5/3/2016 12:00|\n",
      "|INC0000047|        Closed| false|                 1|           0|            8|    true|Caller 2403|Opened by  397|29/2/2016 04:40|Created by 171|29/2/2016 04:57|Updated by 908|6/3/2016 10:00|       Phone|Location 165|Category 40|Subcategory 215|Symptom 471|      ?|2 - Medium|2 - Medium|3 - Moderate|        Group 24| Resolver 89|     true|                  false|Do Not Notify|            ?|  ?|     ?|        ?|     code 5| Resolved by 81|  1/3/2016 9:52|6/3/2016 10:00|\n",
      "|INC0000057|        Closed| false|                 0|           0|            6|    true|Caller 4416|  Opened by  8|29/2/2016 06:10|             ?|              ?|Updated by 908| 6/3/2016 3:00|       Phone|Location 204|Category 20|Subcategory 125|Symptom 471|      ?|2 - Medium|2 - Medium|3 - Moderate|        Group 70|  Resolver 6|     true|                  false|Do Not Notify|Problem ID  2|  ?|     ?|        ?|    code 10|  Resolved by 5|  1/3/2016 2:55| 6/3/2016 3:00|\n",
      "|INC0000060|        Closed| false|                 0|           0|            3|    true|Caller 4491|Opened by  180|29/2/2016 06:38| Created by 81|29/2/2016 06:42|Updated by 908|7/3/2016 13:00|       Phone|Location 204| Category 9| Subcategory 97|Symptom 450|      ?|2 - Medium|2 - Medium|3 - Moderate|        Group 25|Resolver 125|     true|                  false|Do Not Notify|            ?|  ?|     ?|        ?|     code 3|Resolved by 113| 2/3/2016 12:06|7/3/2016 13:00|\n",
      "|INC0000062|        Closed| false|                 1|           0|            7|   false|Caller 3765|Opened by  180|29/2/2016 06:58| Created by 81|29/2/2016 07:26|Updated by 908|5/3/2016 16:00|       Phone| Location 93|Category 53|Subcategory 168|Symptom 232|      ?|  1 - High|2 - Medium|    2 - High|        Group 23|           ?|     true|                  false|Do Not Notify|            ?|  ?|     ?|        ?|     code 7| Resolved by 62|29/2/2016 15:51|5/3/2016 16:00|\n",
      "+----------+--------------+------+------------------+------------+-------------+--------+-----------+--------------+---------------+--------------+---------------+--------------+--------------+------------+------------+-----------+---------------+-----------+-------+----------+----------+------------+----------------+------------+---------+-----------------------+-------------+-------------+---+------+---------+-----------+---------------+---------------+--------------+\n",
      "only showing top 5 rows\n",
      "\n"
     ]
    }
   ],
   "source": [
    "from pyspark.sql.types import StructType, StructField, IntegerType, StringType, DateType\n",
    "\n",
    "schema = StructType([\n",
    "    StructField(\"movieid\", IntegerType(), True),\n",
    "    StructField(\"title\", StringType(), True),\n",
    "    StructField(\"date\", StringType(), True),\n",
    "    StructField(\"unkown\", StringType(), True),\n",
    "    StructField(\"url\", StringType(), True),\n",
    "    ])\n",
    "\n",
    "df = spark.read.csv('data/incident_event_log_reduced.csv', header=True, inferSchema=True)\n",
    "\n",
    "# display the first 5 rows of the dataframe\n",
    "df.show(5)"
   ]
  },
  {
   "cell_type": "code",
   "execution_count": 4,
   "metadata": {},
   "outputs": [
    {
     "name": "stdout",
     "output_type": "stream",
     "text": [
      "+----------+--------------+------+------------------+------------+-------------+--------+-----------+--------------+---------------+--------------+---------------+--------------+---------------+------------+------------+-----------+---------------+-----------+-------+----------+----------+------------+----------------+------------+---------+-----------------------+-------------+-------------+----------+------+---------+-----------+---------------+---------------+---------------+-------------------+-------------------+-------------------+-------------------+-------------------+----------+----------+-----------+-----------+----------+--------+\n",
      "|    number|incident_state|active|reassignment_count|reopen_count|sys_mod_count|made_sla|  caller_id|     opened_by|      opened_at|sys_created_by| sys_created_at|sys_updated_by| sys_updated_at|contact_type|    location|   category|    subcategory|  u_symptom|cmdb_ci|    impact|   urgency|    priority|assignment_group| assigned_to|knowledge|u_priority_confirmation|       notify|   problem_id|       rfc|vendor|caused_by|closed_code|    resolved_by|    resolved_at|      closed_at|        resolved_ts|          opened_ts|     sys_created_ts|     sys_updated_ts|          closed_ts|  resolved|    opened|sys_created|sys_updated|    closed|duration|\n",
      "+----------+--------------+------+------------------+------------+-------------+--------+-----------+--------------+---------------+--------------+---------------+--------------+---------------+------------+------------+-----------+---------------+-----------+-------+----------+----------+------------+----------------+------------+---------+-----------------------+-------------+-------------+----------+------+---------+-----------+---------------+---------------+---------------+-------------------+-------------------+-------------------+-------------------+-------------------+----------+----------+-----------+-----------+----------+--------+\n",
      "|INC0000045|        Closed| false|                 0|           0|            4|    true|Caller 2403|  Opened by  8|29/2/2016 01:16|  Created by 6|29/2/2016 01:23|Updated by 908| 5/3/2016 12:00|       Phone|Location 143|Category 55|Subcategory 170| Symptom 72|      ?|2 - Medium|2 - Medium|3 - Moderate|        Group 56|           ?|     true|                  false|Do Not Notify|            ?|         ?|     ?|        ?|     code 5|Resolved by 149|29/2/2016 11:29| 5/3/2016 12:00|2016-02-29 11:29:00|2016-02-29 01:16:00|2016-02-29 01:23:00|2016-03-05 12:00:00|2016-03-05 12:00:00|2016-02-29|2016-02-29| 2016-02-29| 2016-03-05|2016-03-05|       0|\n",
      "|INC0000047|        Closed| false|                 1|           0|            8|    true|Caller 2403|Opened by  397|29/2/2016 04:40|Created by 171|29/2/2016 04:57|Updated by 908| 6/3/2016 10:00|       Phone|Location 165|Category 40|Subcategory 215|Symptom 471|      ?|2 - Medium|2 - Medium|3 - Moderate|        Group 24| Resolver 89|     true|                  false|Do Not Notify|            ?|         ?|     ?|        ?|     code 5| Resolved by 81|  1/3/2016 9:52| 6/3/2016 10:00|2016-03-01 09:52:00|2016-02-29 04:40:00|2016-02-29 04:57:00|2016-03-06 10:00:00|2016-03-06 10:00:00|2016-03-01|2016-02-29| 2016-02-29| 2016-03-06|2016-03-06|       1|\n",
      "|INC0000057|        Closed| false|                 0|           0|            6|    true|Caller 4416|  Opened by  8|29/2/2016 06:10|             ?|              ?|Updated by 908|  6/3/2016 3:00|       Phone|Location 204|Category 20|Subcategory 125|Symptom 471|      ?|2 - Medium|2 - Medium|3 - Moderate|        Group 70|  Resolver 6|     true|                  false|Do Not Notify|Problem ID  2|         ?|     ?|        ?|    code 10|  Resolved by 5|  1/3/2016 2:55|  6/3/2016 3:00|2016-03-01 02:55:00|2016-02-29 06:10:00|               NULL|2016-03-06 03:00:00|2016-03-06 03:00:00|2016-03-01|2016-02-29|       NULL| 2016-03-06|2016-03-06|       1|\n",
      "|INC0000060|        Closed| false|                 0|           0|            3|    true|Caller 4491|Opened by  180|29/2/2016 06:38| Created by 81|29/2/2016 06:42|Updated by 908| 7/3/2016 13:00|       Phone|Location 204| Category 9| Subcategory 97|Symptom 450|      ?|2 - Medium|2 - Medium|3 - Moderate|        Group 25|Resolver 125|     true|                  false|Do Not Notify|            ?|         ?|     ?|        ?|     code 3|Resolved by 113| 2/3/2016 12:06| 7/3/2016 13:00|2016-03-02 12:06:00|2016-02-29 06:38:00|2016-02-29 06:42:00|2016-03-07 13:00:00|2016-03-07 13:00:00|2016-03-02|2016-02-29| 2016-02-29| 2016-03-07|2016-03-07|       2|\n",
      "|INC0000062|        Closed| false|                 1|           0|            7|   false|Caller 3765|Opened by  180|29/2/2016 06:58| Created by 81|29/2/2016 07:26|Updated by 908| 5/3/2016 16:00|       Phone| Location 93|Category 53|Subcategory 168|Symptom 232|      ?|  1 - High|2 - Medium|    2 - High|        Group 23|           ?|     true|                  false|Do Not Notify|            ?|         ?|     ?|        ?|     code 7| Resolved by 62|29/2/2016 15:51| 5/3/2016 16:00|2016-02-29 15:51:00|2016-02-29 06:58:00|2016-02-29 07:26:00|2016-03-05 16:00:00|2016-03-05 16:00:00|2016-02-29|2016-02-29| 2016-02-29| 2016-03-05|2016-03-05|       0|\n",
      "|INC0000063|        Closed| false|                 1|           0|            7|    true|Caller 2146|Opened by  180|29/2/2016 07:08| Created by 81|29/2/2016 07:17|Updated by 908| 5/3/2016 17:00|       Phone| Location 93|Category 20|Subcategory 125|Symptom 471|      ?|2 - Medium|2 - Medium|3 - Moderate|        Group 23|           ?|     true|                  false|Do Not Notify|            ?|         ?|     ?|        ?|     code 7| Resolved by 62|29/2/2016 16:01| 5/3/2016 17:00|2016-02-29 16:01:00|2016-02-29 07:08:00|2016-02-29 07:17:00|2016-03-05 17:00:00|2016-03-05 17:00:00|2016-02-29|2016-02-29| 2016-02-29| 2016-03-05|2016-03-05|       0|\n",
      "|INC0000064|        Closed| false|                 1|           0|            8|    true|Caller 2838|Opened by  131|29/2/2016 07:10| Created by 62|29/2/2016 07:14|Updated by 908| 8/3/2016 17:00|       Phone|Location 143|Category 53|Subcategory 168|Symptom 580|      ?|2 - Medium|2 - Medium|3 - Moderate|        Group 28| Resolver 78|     true|                  false|Do Not Notify|            ?|         ?|     ?|        ?|     code 6| Resolved by 71| 3/3/2016 16:00| 8/3/2016 17:00|2016-03-03 16:00:00|2016-02-29 07:10:00|2016-02-29 07:14:00|2016-03-08 17:00:00|2016-03-08 17:00:00|2016-03-03|2016-02-29| 2016-02-29| 2016-03-08|2016-03-08|       3|\n",
      "|INC0000065|        Closed| false|                 6|           0|           13|    true|Caller 5323|Opened by  131|29/2/2016 07:38| Created by 62|29/2/2016 07:46|Updated by 908| 7/3/2016 16:00|       Phone|Location 108|Category 45| Subcategory 94|Symptom 311|      ?|2 - Medium|2 - Medium|3 - Moderate|        Group 33|Resolver 216|     true|                  false|Do Not Notify|            ?|         ?|     ?|        ?|     code 1|Resolved by 197| 2/3/2016 15:21| 7/3/2016 16:00|2016-03-02 15:21:00|2016-02-29 07:38:00|2016-02-29 07:46:00|2016-03-07 16:00:00|2016-03-07 16:00:00|2016-03-02|2016-02-29| 2016-02-29| 2016-03-07|2016-03-07|       2|\n",
      "|INC0000066|        Closed| false|                 1|           0|            3|    true|Caller 3796| Opened by  24|29/2/2016 08:03| Created by 13|29/2/2016 08:18|Updated by 908| 7/3/2016 15:00|       Phone|Location 161|Category 55|Subcategory 185|          ?|      ?|2 - Medium|2 - Medium|3 - Moderate|        Group 54|           ?|     true|                  false|Do Not Notify|            ?|         ?|     ?|        ?|     code 5|Resolved by 208| 2/3/2016 14:37| 7/3/2016 15:00|2016-03-02 14:37:00|2016-02-29 08:03:00|2016-02-29 08:18:00|2016-03-07 15:00:00|2016-03-07 15:00:00|2016-03-02|2016-02-29| 2016-02-29| 2016-03-07|2016-03-07|       2|\n",
      "|INC0000067|        Closed| false|                 1|           0|           10|    true| Caller 442|Opened by  180|29/2/2016 08:03| Created by 81|29/2/2016 08:05|Updated by 908| 7/3/2016 12:00|       Phone|Location 143| Category 9|Subcategory 110|Symptom 470|      ?|2 - Medium|2 - Medium|3 - Moderate|        Group 28|Resolver 236|     true|                  false|Do Not Notify|            ?|         ?|     ?|        ?|     code 1|Resolved by 215| 2/3/2016 11:11| 7/3/2016 12:00|2016-03-02 11:11:00|2016-02-29 08:03:00|2016-02-29 08:05:00|2016-03-07 12:00:00|2016-03-07 12:00:00|2016-03-02|2016-02-29| 2016-02-29| 2016-03-07|2016-03-07|       2|\n",
      "|INC0000070|        Closed| false|                 1|           0|            9|   false|Caller 3757|Opened by  131|29/2/2016 08:11| Created by 62|29/2/2016 08:38|Updated by 908|24/3/2016 18:40|       Phone| Location 46| Category 9|Subcategory 164|Symptom 592|      ?|2 - Medium|2 - Medium|3 - Moderate|        Group 29| Resolver 31|     true|                  false|Do Not Notify|            ?|         ?|     ?|        ?|    code 11| Resolved by 30|  8/3/2016 9:55|24/3/2016 18:40|2016-03-08 09:55:00|2016-02-29 08:11:00|2016-02-29 08:38:00|2016-03-24 18:40:00|2016-03-24 18:40:00|2016-03-08|2016-02-29| 2016-02-29| 2016-03-24|2016-03-24|       8|\n",
      "|INC0000071|        Closed| false|                 0|           0|            7|    true| Caller 271|Opened by  180|29/2/2016 08:12| Created by 81|29/2/2016 08:17|Updated by 908| 6/3/2016 11:00|       Phone|Location 161| Category 9|Subcategory 164|Symptom 470|      ?|2 - Medium|2 - Medium|3 - Moderate|        Group 24|Resolver 249|     true|                  false|Do Not Notify|            ?|         ?|     ?|        ?|     code 5|Resolved by 227| 1/3/2016 10:38| 6/3/2016 11:00|2016-03-01 10:38:00|2016-02-29 08:12:00|2016-02-29 08:17:00|2016-03-06 11:00:00|2016-03-06 11:00:00|2016-03-01|2016-02-29| 2016-02-29| 2016-03-06|2016-03-06|       1|\n",
      "|INC0000073|        Closed| false|                 1|           0|            6|    true|Caller 2519| Opened by  40|29/2/2016 08:22| Created by 20|29/2/2016 08:30|Updated by 908| 6/3/2016 16:00|       Phone| Location 42|Category 53|Subcategory 271|Symptom 470|      ?|2 - Medium|2 - Medium|3 - Moderate|        Group 54|           ?|     true|                  false|Do Not Notify|Problem ID  2|         ?|     ?|        ?|    code 11|Resolved by 208| 1/3/2016 15:37| 6/3/2016 16:00|2016-03-01 15:37:00|2016-02-29 08:22:00|2016-02-29 08:30:00|2016-03-06 16:00:00|2016-03-06 16:00:00|2016-03-01|2016-02-29| 2016-02-29| 2016-03-06|2016-03-06|       1|\n",
      "|INC0000074|        Closed| false|                 0|           0|           19|   false| Caller 527|Opened by  433|29/2/2016 08:23|             ?|              ?|Updated by 908|16/4/2016 15:07|       Phone|Location 204|Category 45|Subcategory 220|          ?|      ?|2 - Medium|2 - Medium|3 - Moderate|        Group 66|Resolver 193|     true|                   true|Do Not Notify|            ?|CHG0000404|     ?|        ?|     code 6|Resolved by 158|11/4/2016 14:39|16/4/2016 15:07|2016-04-11 14:39:00|2016-02-29 08:23:00|               NULL|2016-04-16 15:07:00|2016-04-16 15:07:00|2016-04-11|2016-02-29|       NULL| 2016-04-16|2016-04-16|      42|\n",
      "|INC0000076|        Closed| false|                 0|           0|            2|    true|Caller 2949|Opened by  180|29/2/2016 08:25| Created by 81|29/2/2016 08:29|Updated by 908| 5/3/2016 17:00|       Phone| Location 93|Category 42|Subcategory 224|Symptom 470|      ?|2 - Medium|2 - Medium|3 - Moderate|        Group 23|           ?|     true|                  false|Do Not Notify|            ?|         ?|     ?|        ?|     code 5| Resolved by 62|29/2/2016 16:27| 5/3/2016 17:00|2016-02-29 16:27:00|2016-02-29 08:25:00|2016-02-29 08:29:00|2016-03-05 17:00:00|2016-03-05 17:00:00|2016-02-29|2016-02-29| 2016-02-29| 2016-03-05|2016-03-05|       0|\n",
      "|INC0000077|        Closed| false|                 0|           0|            5|    true|Caller 3304|Opened by  180|29/2/2016 08:27|             ?|              ?|Updated by 908| 5/3/2016 10:00|       Phone|Location 108|Category 32|  Subcategory 9|Symptom 470|      ?|2 - Medium|2 - Medium|3 - Moderate|        Group 70|           ?|     true|                  false|Do Not Notify|            ?|         ?|     ?|        ?|     code 6| Resolved by 85|29/2/2016 09:04| 5/3/2016 10:00|2016-02-29 09:04:00|2016-02-29 08:27:00|               NULL|2016-03-05 10:00:00|2016-03-05 10:00:00|2016-02-29|2016-02-29|       NULL| 2016-03-05|2016-03-05|       0|\n",
      "|INC0000079|        Closed| false|                 1|           0|            4|    true|Caller 2471|Opened by  180|29/2/2016 08:32|             ?|              ?|Updated by 908| 5/3/2016 12:00|       Phone|Location 204|Category 55|Subcategory 170|Symptom 470|      ?|2 - Medium|2 - Medium|3 - Moderate|        Group 65|Resolver 180|     true|                  false|Do Not Notify|            ?|         ?|     ?|        ?|     code 6|Resolved by 163|29/2/2016 11:20| 5/3/2016 12:00|2016-02-29 11:20:00|2016-02-29 08:32:00|               NULL|2016-03-05 12:00:00|2016-03-05 12:00:00|2016-02-29|2016-02-29|       NULL| 2016-03-05|2016-03-05|       0|\n",
      "|INC0000080|        Closed| false|                 0|           0|            7|    true|Caller 1194| Opened by  24|29/2/2016 08:33|             ?|              ?|Updated by 908| 7/3/2016 12:00|       Phone|Location 229|Category 32|  Subcategory 9|  Symptom 4|      ?|2 - Medium|2 - Medium|3 - Moderate|        Group 70|           ?|     true|                  false|Do Not Notify|            ?|         ?|     ?|        ?|     code 6| Resolved by 15| 2/3/2016 11:40| 7/3/2016 12:00|2016-03-02 11:40:00|2016-02-29 08:33:00|               NULL|2016-03-07 12:00:00|2016-03-07 12:00:00|2016-03-02|2016-02-29|       NULL| 2016-03-07|2016-03-07|       2|\n",
      "|INC0000083|        Closed| false|                 1|           0|            4|    true|Caller 4866|Opened by  131|29/2/2016 08:39| Created by 62|29/2/2016 08:56|Updated by 908| 5/3/2016 17:00|       Phone| Location 93|Category 24|Subcategory 164|Symptom 583|      ?|   3 - Low|   3 - Low|     4 - Low|        Group 23|           ?|     true|                  false|Do Not Notify|Problem ID  2|         ?|     ?|        ?|     code 7| Resolved by 62|29/2/2016 16:05| 5/3/2016 17:00|2016-02-29 16:05:00|2016-02-29 08:39:00|2016-02-29 08:56:00|2016-03-05 17:00:00|2016-03-05 17:00:00|2016-02-29|2016-02-29| 2016-02-29| 2016-03-05|2016-03-05|       0|\n",
      "|INC0000084|        Closed| false|                 0|           0|           19|   false|Caller 3038|Opened by  433|29/2/2016 08:39|             ?|              ?|Updated by 908|17/4/2016 15:07|       Phone|Location 204|Category 45|Subcategory 220|Symptom 253|      ?|   3 - Low|   3 - Low|     4 - Low|        Group 66|Resolver 175|     true|                   true|Do Not Notify|            ?|CHG0000647|     ?|        ?|     code 6|Resolved by 158|12/4/2016 14:46|17/4/2016 15:07|2016-04-12 14:46:00|2016-02-29 08:39:00|               NULL|2016-04-17 15:07:00|2016-04-17 15:07:00|2016-04-12|2016-02-29|       NULL| 2016-04-17|2016-04-17|      43|\n",
      "+----------+--------------+------+------------------+------------+-------------+--------+-----------+--------------+---------------+--------------+---------------+--------------+---------------+------------+------------+-----------+---------------+-----------+-------+----------+----------+------------+----------------+------------+---------+-----------------------+-------------+-------------+----------+------+---------+-----------+---------------+---------------+---------------+-------------------+-------------------+-------------------+-------------------+-------------------+----------+----------+-----------+-----------+----------+--------+\n",
      "only showing top 20 rows\n",
      "\n"
     ]
    }
   ],
   "source": [
    "from pyspark.sql.functions import datediff,date_format,to_date,to_timestamp\n",
    "\n",
    "df=df.withColumn('resolved_ts',to_timestamp(df.resolved_at, 'd/M/yyyy H:m')).\\\n",
    "                withColumn('opened_ts',to_timestamp(df.opened_at, 'd/M/yyyy H:m')).\\\n",
    "                withColumn('sys_created_ts',to_timestamp(df.sys_created_at, 'd/M/yyyy H:m')).\\\n",
    "                withColumn('sys_updated_ts',to_timestamp(df.sys_updated_at, 'd/M/yyyy H:m')).\\\n",
    "                withColumn('closed_ts',to_timestamp(df.closed_at, 'd/M/yyyy H:m')).\\\n",
    "                withColumn('resolved',to_date(df.resolved_at, 'd/M/yyyy H:m')).\\\n",
    "                withColumn('opened',to_date(df.opened_at, 'd/M/yyyy H:m')).\\\n",
    "                withColumn('sys_created',to_date(df.sys_created_at, 'd/M/yyyy H:m')).\\\n",
    "                withColumn('sys_updated',to_date(df.sys_updated_at, 'd/M/yyyy H:m')).\\\n",
    "                withColumn('closed',to_date(df.closed_at, 'd/M/yyyy H:m')).\\\n",
    "                withColumn('duration',datediff(to_date(df.resolved_at, 'd/M/yyyy H:m'),to_date(df.opened_at, 'd/M/yyyy H:m')))\n",
    "df.show()"
   ]
  },
  {
   "cell_type": "code",
   "execution_count": 5,
   "metadata": {},
   "outputs": [
    {
     "name": "stdout",
     "output_type": "stream",
     "text": [
      "+----------+--------------+------+------------------+------------+-------------+--------+-----------+--------------+---------------+--------------+---------------+--------------+---------------+------------+------------+-----------+---------------+-----------+-------+----------+----------+------------+----------------+------------+---------+-----------------------+-------------+-------------+----------+------+---------+-----------+---------------+---------------+---------------+-------------------+-------------------+-------------------+-------------------+-------------------+----------+----------+-----------+-----------+----------+--------+\n",
      "|    number|incident_state|active|reassignment_count|reopen_count|sys_mod_count|made_sla|  caller_id|     opened_by|      opened_at|sys_created_by| sys_created_at|sys_updated_by| sys_updated_at|contact_type|    location|   category|    subcategory|  u_symptom|cmdb_ci|    impact|   urgency|    priority|assignment_group| assigned_to|knowledge|u_priority_confirmation|       notify|   problem_id|       rfc|vendor|caused_by|closed_code|    resolved_by|    resolved_at|      closed_at|        resolved_ts|          opened_ts|     sys_created_ts|     sys_updated_ts|          closed_ts|  resolved|    opened|sys_created|sys_updated|    closed|duration|\n",
      "+----------+--------------+------+------------------+------------+-------------+--------+-----------+--------------+---------------+--------------+---------------+--------------+---------------+------------+------------+-----------+---------------+-----------+-------+----------+----------+------------+----------------+------------+---------+-----------------------+-------------+-------------+----------+------+---------+-----------+---------------+---------------+---------------+-------------------+-------------------+-------------------+-------------------+-------------------+----------+----------+-----------+-----------+----------+--------+\n",
      "|INC0000045|        Closed| false|                 0|           0|            4|    true|Caller 2403|  Opened by  8|29/2/2016 01:16|  Created by 6|29/2/2016 01:23|Updated by 908| 5/3/2016 12:00|       Phone|Location 143|Category 55|Subcategory 170| Symptom 72|      ?|2 - Medium|2 - Medium|3 - Moderate|        Group 56|           ?|     true|                  false|Do Not Notify|            ?|         ?|     ?|        ?|     code 5|Resolved by 149|29/2/2016 11:29| 5/3/2016 12:00|2016-02-29 11:29:00|2016-02-29 01:16:00|2016-02-29 01:23:00|2016-03-05 12:00:00|2016-03-05 12:00:00|2016-02-29|2016-02-29| 2016-02-29| 2016-03-05|2016-03-05|       0|\n",
      "|INC0000047|        Closed| false|                 1|           0|            8|    true|Caller 2403|Opened by  397|29/2/2016 04:40|Created by 171|29/2/2016 04:57|Updated by 908| 6/3/2016 10:00|       Phone|Location 165|Category 40|Subcategory 215|Symptom 471|      ?|2 - Medium|2 - Medium|3 - Moderate|        Group 24| Resolver 89|     true|                  false|Do Not Notify|            ?|         ?|     ?|        ?|     code 5| Resolved by 81|  1/3/2016 9:52| 6/3/2016 10:00|2016-03-01 09:52:00|2016-02-29 04:40:00|2016-02-29 04:57:00|2016-03-06 10:00:00|2016-03-06 10:00:00|2016-03-01|2016-02-29| 2016-02-29| 2016-03-06|2016-03-06|       1|\n",
      "|INC0000057|        Closed| false|                 0|           0|            6|    true|Caller 4416|  Opened by  8|29/2/2016 06:10|             ?|              ?|Updated by 908|  6/3/2016 3:00|       Phone|Location 204|Category 20|Subcategory 125|Symptom 471|      ?|2 - Medium|2 - Medium|3 - Moderate|        Group 70|  Resolver 6|     true|                  false|Do Not Notify|Problem ID  2|         ?|     ?|        ?|    code 10|  Resolved by 5|  1/3/2016 2:55|  6/3/2016 3:00|2016-03-01 02:55:00|2016-02-29 06:10:00|               NULL|2016-03-06 03:00:00|2016-03-06 03:00:00|2016-03-01|2016-02-29|       NULL| 2016-03-06|2016-03-06|       1|\n",
      "|INC0000060|        Closed| false|                 0|           0|            3|    true|Caller 4491|Opened by  180|29/2/2016 06:38| Created by 81|29/2/2016 06:42|Updated by 908| 7/3/2016 13:00|       Phone|Location 204| Category 9| Subcategory 97|Symptom 450|      ?|2 - Medium|2 - Medium|3 - Moderate|        Group 25|Resolver 125|     true|                  false|Do Not Notify|            ?|         ?|     ?|        ?|     code 3|Resolved by 113| 2/3/2016 12:06| 7/3/2016 13:00|2016-03-02 12:06:00|2016-02-29 06:38:00|2016-02-29 06:42:00|2016-03-07 13:00:00|2016-03-07 13:00:00|2016-03-02|2016-02-29| 2016-02-29| 2016-03-07|2016-03-07|       2|\n",
      "|INC0000062|        Closed| false|                 1|           0|            7|   false|Caller 3765|Opened by  180|29/2/2016 06:58| Created by 81|29/2/2016 07:26|Updated by 908| 5/3/2016 16:00|       Phone| Location 93|Category 53|Subcategory 168|Symptom 232|      ?|  1 - High|2 - Medium|    2 - High|        Group 23|           ?|     true|                  false|Do Not Notify|            ?|         ?|     ?|        ?|     code 7| Resolved by 62|29/2/2016 15:51| 5/3/2016 16:00|2016-02-29 15:51:00|2016-02-29 06:58:00|2016-02-29 07:26:00|2016-03-05 16:00:00|2016-03-05 16:00:00|2016-02-29|2016-02-29| 2016-02-29| 2016-03-05|2016-03-05|       0|\n",
      "|INC0000063|        Closed| false|                 1|           0|            7|    true|Caller 2146|Opened by  180|29/2/2016 07:08| Created by 81|29/2/2016 07:17|Updated by 908| 5/3/2016 17:00|       Phone| Location 93|Category 20|Subcategory 125|Symptom 471|      ?|2 - Medium|2 - Medium|3 - Moderate|        Group 23|           ?|     true|                  false|Do Not Notify|            ?|         ?|     ?|        ?|     code 7| Resolved by 62|29/2/2016 16:01| 5/3/2016 17:00|2016-02-29 16:01:00|2016-02-29 07:08:00|2016-02-29 07:17:00|2016-03-05 17:00:00|2016-03-05 17:00:00|2016-02-29|2016-02-29| 2016-02-29| 2016-03-05|2016-03-05|       0|\n",
      "|INC0000064|        Closed| false|                 1|           0|            8|    true|Caller 2838|Opened by  131|29/2/2016 07:10| Created by 62|29/2/2016 07:14|Updated by 908| 8/3/2016 17:00|       Phone|Location 143|Category 53|Subcategory 168|Symptom 580|      ?|2 - Medium|2 - Medium|3 - Moderate|        Group 28| Resolver 78|     true|                  false|Do Not Notify|            ?|         ?|     ?|        ?|     code 6| Resolved by 71| 3/3/2016 16:00| 8/3/2016 17:00|2016-03-03 16:00:00|2016-02-29 07:10:00|2016-02-29 07:14:00|2016-03-08 17:00:00|2016-03-08 17:00:00|2016-03-03|2016-02-29| 2016-02-29| 2016-03-08|2016-03-08|       3|\n",
      "|INC0000065|        Closed| false|                 6|           0|           13|    true|Caller 5323|Opened by  131|29/2/2016 07:38| Created by 62|29/2/2016 07:46|Updated by 908| 7/3/2016 16:00|       Phone|Location 108|Category 45| Subcategory 94|Symptom 311|      ?|2 - Medium|2 - Medium|3 - Moderate|        Group 33|Resolver 216|     true|                  false|Do Not Notify|            ?|         ?|     ?|        ?|     code 1|Resolved by 197| 2/3/2016 15:21| 7/3/2016 16:00|2016-03-02 15:21:00|2016-02-29 07:38:00|2016-02-29 07:46:00|2016-03-07 16:00:00|2016-03-07 16:00:00|2016-03-02|2016-02-29| 2016-02-29| 2016-03-07|2016-03-07|       2|\n",
      "|INC0000066|        Closed| false|                 1|           0|            3|    true|Caller 3796| Opened by  24|29/2/2016 08:03| Created by 13|29/2/2016 08:18|Updated by 908| 7/3/2016 15:00|       Phone|Location 161|Category 55|Subcategory 185|          ?|      ?|2 - Medium|2 - Medium|3 - Moderate|        Group 54|           ?|     true|                  false|Do Not Notify|            ?|         ?|     ?|        ?|     code 5|Resolved by 208| 2/3/2016 14:37| 7/3/2016 15:00|2016-03-02 14:37:00|2016-02-29 08:03:00|2016-02-29 08:18:00|2016-03-07 15:00:00|2016-03-07 15:00:00|2016-03-02|2016-02-29| 2016-02-29| 2016-03-07|2016-03-07|       2|\n",
      "|INC0000067|        Closed| false|                 1|           0|           10|    true| Caller 442|Opened by  180|29/2/2016 08:03| Created by 81|29/2/2016 08:05|Updated by 908| 7/3/2016 12:00|       Phone|Location 143| Category 9|Subcategory 110|Symptom 470|      ?|2 - Medium|2 - Medium|3 - Moderate|        Group 28|Resolver 236|     true|                  false|Do Not Notify|            ?|         ?|     ?|        ?|     code 1|Resolved by 215| 2/3/2016 11:11| 7/3/2016 12:00|2016-03-02 11:11:00|2016-02-29 08:03:00|2016-02-29 08:05:00|2016-03-07 12:00:00|2016-03-07 12:00:00|2016-03-02|2016-02-29| 2016-02-29| 2016-03-07|2016-03-07|       2|\n",
      "|INC0000070|        Closed| false|                 1|           0|            9|   false|Caller 3757|Opened by  131|29/2/2016 08:11| Created by 62|29/2/2016 08:38|Updated by 908|24/3/2016 18:40|       Phone| Location 46| Category 9|Subcategory 164|Symptom 592|      ?|2 - Medium|2 - Medium|3 - Moderate|        Group 29| Resolver 31|     true|                  false|Do Not Notify|            ?|         ?|     ?|        ?|    code 11| Resolved by 30|  8/3/2016 9:55|24/3/2016 18:40|2016-03-08 09:55:00|2016-02-29 08:11:00|2016-02-29 08:38:00|2016-03-24 18:40:00|2016-03-24 18:40:00|2016-03-08|2016-02-29| 2016-02-29| 2016-03-24|2016-03-24|       8|\n",
      "|INC0000071|        Closed| false|                 0|           0|            7|    true| Caller 271|Opened by  180|29/2/2016 08:12| Created by 81|29/2/2016 08:17|Updated by 908| 6/3/2016 11:00|       Phone|Location 161| Category 9|Subcategory 164|Symptom 470|      ?|2 - Medium|2 - Medium|3 - Moderate|        Group 24|Resolver 249|     true|                  false|Do Not Notify|            ?|         ?|     ?|        ?|     code 5|Resolved by 227| 1/3/2016 10:38| 6/3/2016 11:00|2016-03-01 10:38:00|2016-02-29 08:12:00|2016-02-29 08:17:00|2016-03-06 11:00:00|2016-03-06 11:00:00|2016-03-01|2016-02-29| 2016-02-29| 2016-03-06|2016-03-06|       1|\n",
      "|INC0000073|        Closed| false|                 1|           0|            6|    true|Caller 2519| Opened by  40|29/2/2016 08:22| Created by 20|29/2/2016 08:30|Updated by 908| 6/3/2016 16:00|       Phone| Location 42|Category 53|Subcategory 271|Symptom 470|      ?|2 - Medium|2 - Medium|3 - Moderate|        Group 54|           ?|     true|                  false|Do Not Notify|Problem ID  2|         ?|     ?|        ?|    code 11|Resolved by 208| 1/3/2016 15:37| 6/3/2016 16:00|2016-03-01 15:37:00|2016-02-29 08:22:00|2016-02-29 08:30:00|2016-03-06 16:00:00|2016-03-06 16:00:00|2016-03-01|2016-02-29| 2016-02-29| 2016-03-06|2016-03-06|       1|\n",
      "|INC0000074|        Closed| false|                 0|           0|           19|   false| Caller 527|Opened by  433|29/2/2016 08:23|             ?|              ?|Updated by 908|16/4/2016 15:07|       Phone|Location 204|Category 45|Subcategory 220|          ?|      ?|2 - Medium|2 - Medium|3 - Moderate|        Group 66|Resolver 193|     true|                   true|Do Not Notify|            ?|CHG0000404|     ?|        ?|     code 6|Resolved by 158|11/4/2016 14:39|16/4/2016 15:07|2016-04-11 14:39:00|2016-02-29 08:23:00|               NULL|2016-04-16 15:07:00|2016-04-16 15:07:00|2016-04-11|2016-02-29|       NULL| 2016-04-16|2016-04-16|      42|\n",
      "|INC0000076|        Closed| false|                 0|           0|            2|    true|Caller 2949|Opened by  180|29/2/2016 08:25| Created by 81|29/2/2016 08:29|Updated by 908| 5/3/2016 17:00|       Phone| Location 93|Category 42|Subcategory 224|Symptom 470|      ?|2 - Medium|2 - Medium|3 - Moderate|        Group 23|           ?|     true|                  false|Do Not Notify|            ?|         ?|     ?|        ?|     code 5| Resolved by 62|29/2/2016 16:27| 5/3/2016 17:00|2016-02-29 16:27:00|2016-02-29 08:25:00|2016-02-29 08:29:00|2016-03-05 17:00:00|2016-03-05 17:00:00|2016-02-29|2016-02-29| 2016-02-29| 2016-03-05|2016-03-05|       0|\n",
      "|INC0000077|        Closed| false|                 0|           0|            5|    true|Caller 3304|Opened by  180|29/2/2016 08:27|             ?|              ?|Updated by 908| 5/3/2016 10:00|       Phone|Location 108|Category 32|  Subcategory 9|Symptom 470|      ?|2 - Medium|2 - Medium|3 - Moderate|        Group 70|           ?|     true|                  false|Do Not Notify|            ?|         ?|     ?|        ?|     code 6| Resolved by 85|29/2/2016 09:04| 5/3/2016 10:00|2016-02-29 09:04:00|2016-02-29 08:27:00|               NULL|2016-03-05 10:00:00|2016-03-05 10:00:00|2016-02-29|2016-02-29|       NULL| 2016-03-05|2016-03-05|       0|\n",
      "|INC0000079|        Closed| false|                 1|           0|            4|    true|Caller 2471|Opened by  180|29/2/2016 08:32|             ?|              ?|Updated by 908| 5/3/2016 12:00|       Phone|Location 204|Category 55|Subcategory 170|Symptom 470|      ?|2 - Medium|2 - Medium|3 - Moderate|        Group 65|Resolver 180|     true|                  false|Do Not Notify|            ?|         ?|     ?|        ?|     code 6|Resolved by 163|29/2/2016 11:20| 5/3/2016 12:00|2016-02-29 11:20:00|2016-02-29 08:32:00|               NULL|2016-03-05 12:00:00|2016-03-05 12:00:00|2016-02-29|2016-02-29|       NULL| 2016-03-05|2016-03-05|       0|\n",
      "|INC0000080|        Closed| false|                 0|           0|            7|    true|Caller 1194| Opened by  24|29/2/2016 08:33|             ?|              ?|Updated by 908| 7/3/2016 12:00|       Phone|Location 229|Category 32|  Subcategory 9|  Symptom 4|      ?|2 - Medium|2 - Medium|3 - Moderate|        Group 70|           ?|     true|                  false|Do Not Notify|            ?|         ?|     ?|        ?|     code 6| Resolved by 15| 2/3/2016 11:40| 7/3/2016 12:00|2016-03-02 11:40:00|2016-02-29 08:33:00|               NULL|2016-03-07 12:00:00|2016-03-07 12:00:00|2016-03-02|2016-02-29|       NULL| 2016-03-07|2016-03-07|       2|\n",
      "|INC0000083|        Closed| false|                 1|           0|            4|    true|Caller 4866|Opened by  131|29/2/2016 08:39| Created by 62|29/2/2016 08:56|Updated by 908| 5/3/2016 17:00|       Phone| Location 93|Category 24|Subcategory 164|Symptom 583|      ?|   3 - Low|   3 - Low|     4 - Low|        Group 23|           ?|     true|                  false|Do Not Notify|Problem ID  2|         ?|     ?|        ?|     code 7| Resolved by 62|29/2/2016 16:05| 5/3/2016 17:00|2016-02-29 16:05:00|2016-02-29 08:39:00|2016-02-29 08:56:00|2016-03-05 17:00:00|2016-03-05 17:00:00|2016-02-29|2016-02-29| 2016-02-29| 2016-03-05|2016-03-05|       0|\n",
      "|INC0000084|        Closed| false|                 0|           0|           19|   false|Caller 3038|Opened by  433|29/2/2016 08:39|             ?|              ?|Updated by 908|17/4/2016 15:07|       Phone|Location 204|Category 45|Subcategory 220|Symptom 253|      ?|   3 - Low|   3 - Low|     4 - Low|        Group 66|Resolver 175|     true|                   true|Do Not Notify|            ?|CHG0000647|     ?|        ?|     code 6|Resolved by 158|12/4/2016 14:46|17/4/2016 15:07|2016-04-12 14:46:00|2016-02-29 08:39:00|               NULL|2016-04-17 15:07:00|2016-04-17 15:07:00|2016-04-12|2016-02-29|       NULL| 2016-04-17|2016-04-17|      43|\n",
      "+----------+--------------+------+------------------+------------+-------------+--------+-----------+--------------+---------------+--------------+---------------+--------------+---------------+------------+------------+-----------+---------------+-----------+-------+----------+----------+------------+----------------+------------+---------+-----------------------+-------------+-------------+----------+------+---------+-----------+---------------+---------------+---------------+-------------------+-------------------+-------------------+-------------------+-------------------+----------+----------+-----------+-----------+----------+--------+\n",
      "only showing top 20 rows\n",
      "\n"
     ]
    }
   ],
   "source": [
    "df.show()"
   ]
  },
  {
   "cell_type": "code",
   "execution_count": 6,
   "metadata": {},
   "outputs": [
    {
     "name": "stderr",
     "output_type": "stream",
     "text": [
      "23/10/26 15:17:50 WARN SessionState: METASTORE_FILTER_HOOK will be ignored, since hive.security.authorization.manager is set to instance of HiveAuthorizerFactory.\n",
      "23/10/26 15:17:50 WARN HiveConf: HiveConf of name hive.internal.ss.authz.settings.applied.marker does not exist\n",
      "23/10/26 15:17:50 WARN HiveConf: HiveConf of name hive.stats.jdbc.timeout does not exist\n",
      "23/10/26 15:17:50 WARN HiveConf: HiveConf of name hive.stats.retries.wait does not exist\n"
     ]
    }
   ],
   "source": [
    "df.write.saveAsTable(\"incidents\", mode='overwrite')"
   ]
  },
  {
   "attachments": {},
   "cell_type": "markdown",
   "metadata": {},
   "source": [
    "### Create a temp view called IM for all closed incidents.\n",
    "\n",
    "This temp view will be used to query the data in the following sections."
   ]
  },
  {
   "cell_type": "code",
   "execution_count": 7,
   "metadata": {},
   "outputs": [],
   "source": [
    "df_unique_incidents=df.filter(\"incident_state=='Closed'\").sort(\"sys_mod_count\",ascending=False).dropDuplicates([\"number\"])"
   ]
  },
  {
   "cell_type": "code",
   "execution_count": 8,
   "metadata": {},
   "outputs": [],
   "source": [
    "df_unique_incidents.createOrReplaceTempView(\"IM\")"
   ]
  },
  {
   "cell_type": "code",
   "execution_count": 9,
   "metadata": {},
   "outputs": [
    {
     "name": "stdout",
     "output_type": "stream",
     "text": [
      "+--------------------+---------+-------+\n",
      "|            col_name|data_type|comment|\n",
      "+--------------------+---------+-------+\n",
      "|              number|   string|   NULL|\n",
      "|      incident_state|   string|   NULL|\n",
      "|              active|  boolean|   NULL|\n",
      "|  reassignment_count|      int|   NULL|\n",
      "|        reopen_count|      int|   NULL|\n",
      "|       sys_mod_count|      int|   NULL|\n",
      "|            made_sla|  boolean|   NULL|\n",
      "|           caller_id|   string|   NULL|\n",
      "|           opened_by|   string|   NULL|\n",
      "|           opened_at|   string|   NULL|\n",
      "|      sys_created_by|   string|   NULL|\n",
      "|      sys_created_at|   string|   NULL|\n",
      "|      sys_updated_by|   string|   NULL|\n",
      "|      sys_updated_at|   string|   NULL|\n",
      "|        contact_type|   string|   NULL|\n",
      "|            location|   string|   NULL|\n",
      "|            category|   string|   NULL|\n",
      "|         subcategory|   string|   NULL|\n",
      "|           u_symptom|   string|   NULL|\n",
      "|             cmdb_ci|   string|   NULL|\n",
      "|              impact|   string|   NULL|\n",
      "|             urgency|   string|   NULL|\n",
      "|            priority|   string|   NULL|\n",
      "|    assignment_group|   string|   NULL|\n",
      "|         assigned_to|   string|   NULL|\n",
      "|           knowledge|  boolean|   NULL|\n",
      "|u_priority_confir...|  boolean|   NULL|\n",
      "|              notify|   string|   NULL|\n",
      "|          problem_id|   string|   NULL|\n",
      "|                 rfc|   string|   NULL|\n",
      "|              vendor|   string|   NULL|\n",
      "|           caused_by|   string|   NULL|\n",
      "|         closed_code|   string|   NULL|\n",
      "|         resolved_by|   string|   NULL|\n",
      "|         resolved_at|   string|   NULL|\n",
      "|           closed_at|   string|   NULL|\n",
      "|         resolved_ts|timestamp|   NULL|\n",
      "|           opened_ts|timestamp|   NULL|\n",
      "|      sys_created_ts|timestamp|   NULL|\n",
      "|      sys_updated_ts|timestamp|   NULL|\n",
      "|           closed_ts|timestamp|   NULL|\n",
      "|            resolved|     date|   NULL|\n",
      "|              opened|     date|   NULL|\n",
      "|         sys_created|     date|   NULL|\n",
      "|         sys_updated|     date|   NULL|\n",
      "|              closed|     date|   NULL|\n",
      "|            duration|      int|   NULL|\n",
      "+--------------------+---------+-------+\n",
      "\n"
     ]
    }
   ],
   "source": [
    "spark.sql(\"describe IM\").show(50)"
   ]
  },
  {
   "attachments": {},
   "cell_type": "markdown",
   "metadata": {},
   "source": [
    "### 1. Top 5 People with the most resolved incidents"
   ]
  },
  {
   "cell_type": "code",
   "execution_count": 10,
   "metadata": {},
   "outputs": [
    {
     "name": "stdout",
     "output_type": "stream",
     "text": [
      "+---------------+------------------+\n",
      "|    resolved_by|Incidents_Resolved|\n",
      "+---------------+------------------+\n",
      "| Resolved by 11|              3071|\n",
      "| Resolved by 15|              2415|\n",
      "|Resolved by 103|               689|\n",
      "|Resolved by 177|               686|\n",
      "| Resolved by 32|               597|\n",
      "+---------------+------------------+\n",
      "\n"
     ]
    }
   ],
   "source": [
    "df = spark.sql(\" select resolved_by,count(number) as Incidents_Resolved from IM \\\n",
    "            group by resolved_by order by Incidents_Resolved desc limit 5\")\n",
    "df.show()"
   ]
  },
  {
   "attachments": {},
   "cell_type": "markdown",
   "metadata": {},
   "source": [
    "### 2. Based on least average duration, find the top 5 people with maxmium number of incidents resolved"
   ]
  },
  {
   "cell_type": "code",
   "execution_count": 11,
   "metadata": {},
   "outputs": [
    {
     "name": "stdout",
     "output_type": "stream",
     "text": [
      "+---------------+------------------+----------------+\n",
      "|    resolved_by|Incidents_Resolved|Average_Duration|\n",
      "+---------------+------------------+----------------+\n",
      "| Resolved by 10|                 4|             0.0|\n",
      "| Resolved by 94|                 4|             0.0|\n",
      "| Resolved by 26|                 2|             0.0|\n",
      "|Resolved by 145|                 2|             0.0|\n",
      "|Resolved by 219|                 1|             0.0|\n",
      "+---------------+------------------+----------------+\n",
      "\n"
     ]
    }
   ],
   "source": [
    "spark.sql(\" select resolved_by,count(number) as Incidents_Resolved,mean(duration) as Average_Duration from IM \\\n",
    "            group by resolved_by order by Average_Duration asc,Incidents_Resolved desc limit 5\").show()"
   ]
  },
  {
   "attachments": {},
   "cell_type": "markdown",
   "metadata": {},
   "source": [
    "### 3. People with maximum number of high impact incidents resolved"
   ]
  },
  {
   "cell_type": "code",
   "execution_count": 12,
   "metadata": {},
   "outputs": [
    {
     "name": "stdout",
     "output_type": "stream",
     "text": [
      "+---------------+------------------+\n",
      "|    resolved_by|Incidents_Resolved|\n",
      "+---------------+------------------+\n",
      "| Resolved by 98|                20|\n",
      "|Resolved by 137|                17|\n",
      "| Resolved by 11|                15|\n",
      "|Resolved by 165|                13|\n",
      "|Resolved by 111|                12|\n",
      "+---------------+------------------+\n",
      "\n"
     ]
    }
   ],
   "source": [
    "spark.sql(\" select resolved_by,count(number) as Incidents_Resolved from IM \\\n",
    "            where impact = '1 - High' group by resolved_by order by Incidents_Resolved desc limit 5\").show()"
   ]
  },
  {
   "attachments": {},
   "cell_type": "markdown",
   "metadata": {},
   "source": [
    "### 4a. In each impact levels, find the person with most number of incidents resolved"
   ]
  },
  {
   "cell_type": "code",
   "execution_count": 13,
   "metadata": {},
   "outputs": [
    {
     "name": "stdout",
     "output_type": "stream",
     "text": [
      "+----------+--------------+------------------+\n",
      "|    impact|   resolved_by|Incidents_Resolved|\n",
      "+----------+--------------+------------------+\n",
      "|  1 - High|Resolved by 98|                20|\n",
      "|2 - Medium|Resolved by 11|              3045|\n",
      "|   3 - Low|Resolved by 66|               194|\n",
      "+----------+--------------+------------------+\n",
      "\n"
     ]
    }
   ],
   "source": [
    "spark.sql(\" select impact,resolved_by,Incidents_Resolved from (\\\n",
    "            select impact,resolved_by,count(number) as Incidents_Resolved,\\\n",
    "            row_number() over (partition by impact order by count(number) desc) as row_number from IM \\\n",
    "            group by impact,resolved_by order by impact asc, Incidents_Resolved desc) as rows \\\n",
    "            where row_number = 1\").show()"
   ]
  },
  {
   "attachments": {},
   "cell_type": "markdown",
   "metadata": {},
   "source": [
    "### 4b. In each urgency levels, find the person with most number of incidents resolved"
   ]
  },
  {
   "cell_type": "code",
   "execution_count": 14,
   "metadata": {},
   "outputs": [
    {
     "name": "stdout",
     "output_type": "stream",
     "text": [
      "+----------+---------------+------------------+\n",
      "|   urgency|    resolved_by|Incidents_Resolved|\n",
      "+----------+---------------+------------------+\n",
      "|  1 - High|Resolved by 166|                38|\n",
      "|2 - Medium| Resolved by 11|              3047|\n",
      "|   3 - Low| Resolved by 66|               195|\n",
      "+----------+---------------+------------------+\n",
      "\n"
     ]
    }
   ],
   "source": [
    "spark.sql(\" select urgency,resolved_by,Incidents_Resolved from (\\\n",
    "            select urgency,resolved_by,count(number) as Incidents_Resolved,\\\n",
    "            row_number() over (partition by urgency order by count(number) desc) as row_number from IM \\\n",
    "            group by urgency,resolved_by order by urgency asc, Incidents_Resolved desc) as rows \\\n",
    "            where row_number = 1\").show()"
   ]
  },
  {
   "cell_type": "markdown",
   "metadata": {},
   "source": [
    "### 4c. In each priority levels, find the person with most number of incidents resolved"
   ]
  },
  {
   "cell_type": "code",
   "execution_count": 15,
   "metadata": {},
   "outputs": [
    {
     "name": "stdout",
     "output_type": "stream",
     "text": [
      "+------------+---------------+------------------+\n",
      "|    priority|    resolved_by|Incidents_Resolved|\n",
      "+------------+---------------+------------------+\n",
      "|1 - Critical| Resolved by 98|                16|\n",
      "|    2 - High|Resolved by 166|                40|\n",
      "|3 - Moderate| Resolved by 11|              3040|\n",
      "|     4 - Low| Resolved by 66|               195|\n",
      "+------------+---------------+------------------+\n",
      "\n"
     ]
    }
   ],
   "source": [
    "spark.sql(\" select priority,resolved_by,Incidents_Resolved from (\\\n",
    "            select priority,resolved_by,count(number) as Incidents_Resolved,\\\n",
    "            row_number() over (partition by priority order by count(number) desc) as row_number from IM \\\n",
    "            group by priority,resolved_by order by priority asc, Incidents_Resolved desc) as rows \\\n",
    "            where row_number = 1\").show()"
   ]
  },
  {
   "attachments": {},
   "cell_type": "markdown",
   "metadata": {},
   "source": [
    "### 5.  Find each contact type as a percentage of total incidents"
   ]
  },
  {
   "cell_type": "code",
   "execution_count": 16,
   "metadata": {},
   "outputs": [
    {
     "name": "stderr",
     "output_type": "stream",
     "text": [
      "23/10/26 15:18:00 WARN WindowExec: No Partition Defined for Window operation! Moving all data to a single partition, this can cause serious performance degradation.\n",
      "23/10/26 15:18:00 WARN WindowExec: No Partition Defined for Window operation! Moving all data to a single partition, this can cause serious performance degradation.\n",
      "23/10/26 15:18:00 WARN WindowExec: No Partition Defined for Window operation! Moving all data to a single partition, this can cause serious performance degradation.\n",
      "23/10/26 15:18:00 WARN WindowExec: No Partition Defined for Window operation! Moving all data to a single partition, this can cause serious performance degradation.\n",
      "23/10/26 15:18:00 WARN WindowExec: No Partition Defined for Window operation! Moving all data to a single partition, this can cause serious performance degradation.\n",
      "23/10/26 15:18:00 WARN WindowExec: No Partition Defined for Window operation! Moving all data to a single partition, this can cause serious performance degradation.\n",
      "23/10/26 15:18:00 WARN WindowExec: No Partition Defined for Window operation! Moving all data to a single partition, this can cause serious performance degradation.\n"
     ]
    },
    {
     "name": "stdout",
     "output_type": "stream",
     "text": [
      "+--------------+------------------+----------+\n",
      "|  contact_type|Incidents_Reported|Percentage|\n",
      "+--------------+------------------+----------+\n",
      "|         Phone|             24688|     99.08|\n",
      "|         Email|                59|      0.24|\n",
      "|  Self service|               158|      0.63|\n",
      "|           IVR|                 9|      0.04|\n",
      "|Direct opening|                 4|      0.02|\n",
      "+--------------+------------------+----------+\n",
      "\n"
     ]
    },
    {
     "name": "stderr",
     "output_type": "stream",
     "text": [
      "23/10/26 15:18:00 WARN WindowExec: No Partition Defined for Window operation! Moving all data to a single partition, this can cause serious performance degradation.\n",
      "23/10/26 15:18:00 WARN WindowExec: No Partition Defined for Window operation! Moving all data to a single partition, this can cause serious performance degradation.\n",
      "23/10/26 15:18:00 WARN WindowExec: No Partition Defined for Window operation! Moving all data to a single partition, this can cause serious performance degradation.\n",
      "23/10/26 15:18:00 WARN WindowExec: No Partition Defined for Window operation! Moving all data to a single partition, this can cause serious performance degradation.\n"
     ]
    }
   ],
   "source": [
    "spark.sql(\" select contact_type,count(number) as Incidents_Reported,\\\n",
    "            cast(count(number)*100/sum(count(number)) over() as decimal(4,2)) as Percentage \\\n",
    "            from IM group by contact_type\").show()"
   ]
  },
  {
   "cell_type": "markdown",
   "metadata": {},
   "source": [
    "### 6. On each priority level, find the percentage of incidents which made SLA and which did not."
   ]
  },
  {
   "cell_type": "code",
   "execution_count": 17,
   "metadata": {},
   "outputs": [
    {
     "name": "stdout",
     "output_type": "stream",
     "text": [
      "+------------+--------+---------------+----------+\n",
      "|    priority|made_sla|No_of_Incidents|Percentage|\n",
      "+------------+--------+---------------+----------+\n",
      "|1 - Critical|     YES|              5|      1.85|\n",
      "|1 - Critical|      NO|            265|     98.15|\n",
      "|    2 - High|     YES|              2|      0.49|\n",
      "|    2 - High|      NO|            406|     99.51|\n",
      "|3 - Moderate|     YES|          15145|     64.54|\n",
      "|3 - Moderate|      NO|           8321|     35.46|\n",
      "|     4 - Low|     YES|            651|     84.11|\n",
      "|     4 - Low|      NO|            123|     15.89|\n",
      "+------------+--------+---------------+----------+\n",
      "\n"
     ]
    }
   ],
   "source": [
    "spark.sql(\" select priority,case when made_sla = 'false' then 'NO' else 'YES' end as made_sla,\\\n",
    "            count(number) as No_of_Incidents,\\\n",
    "            cast(count(number)*100/sum(count(number)) over(partition by priority) as decimal(4,2)) as Percentage \\\n",
    "            from IM group by priority,made_sla order by priority asc, made_sla desc\").show()"
   ]
  },
  {
   "attachments": {},
   "cell_type": "markdown",
   "metadata": {},
   "source": [
    "### 7. Top 5 location with the maximum number of incidents reported"
   ]
  },
  {
   "cell_type": "code",
   "execution_count": null,
   "metadata": {},
   "outputs": [],
   "source": []
  },
  {
   "cell_type": "code",
   "execution_count": 18,
   "metadata": {},
   "outputs": [
    {
     "name": "stdout",
     "output_type": "stream",
     "text": [
      "+------------+------------------+\n",
      "|    location|Incidents_Reported|\n",
      "+------------+------------------+\n",
      "|Location 204|              5554|\n",
      "|Location 161|              4002|\n",
      "|Location 143|              3276|\n",
      "|Location 108|              2140|\n",
      "| Location 93|              1934|\n",
      "+------------+------------------+\n",
      "\n"
     ]
    }
   ],
   "source": [
    "spark.sql(\" select location,count(number) as Incidents_Reported from IM \\\n",
    "            group by location order by Incidents_reported desc limit 5\").show()"
   ]
  },
  {
   "cell_type": "markdown",
   "metadata": {},
   "source": [
    "### 8. Which category of issues missed meeting the SLA the most?"
   ]
  },
  {
   "cell_type": "code",
   "execution_count": 19,
   "metadata": {},
   "outputs": [
    {
     "name": "stdout",
     "output_type": "stream",
     "text": [
      "+-----------+---------------------------+\n",
      "|   category|No_Of_Incidents_missing_SLA|\n",
      "+-----------+---------------------------+\n",
      "|Category 46|                       1254|\n",
      "|Category 26|                       1017|\n",
      "|Category 53|                       1009|\n",
      "|Category 42|                        689|\n",
      "|Category 23|                        505|\n",
      "+-----------+---------------------------+\n",
      "\n"
     ]
    }
   ],
   "source": [
    "spark.sql(\" select category,count(number) as No_Of_Incidents_missing_SLA from IM \\\n",
    "            where made_sla=false group by category order by No_Of_Incidents_missing_SLA desc limit 5\").show()"
   ]
  },
  {
   "cell_type": "code",
   "execution_count": 20,
   "metadata": {},
   "outputs": [],
   "source": [
    "spark.stop()"
   ]
  }
 ],
 "metadata": {
  "kernelspec": {
   "display_name": "Python 3 (ipykernel)",
   "language": "python",
   "name": "python3"
  },
  "language_info": {
   "codemirror_mode": {
    "name": "ipython",
    "version": 3
   },
   "file_extension": ".py",
   "mimetype": "text/x-python",
   "name": "python",
   "nbconvert_exporter": "python",
   "pygments_lexer": "ipython3",
   "version": "3.11.5"
  }
 },
 "nbformat": 4,
 "nbformat_minor": 4
}
