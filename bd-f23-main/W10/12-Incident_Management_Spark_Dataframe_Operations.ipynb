{
 "cells": [
  {
   "cell_type": "code",
   "execution_count": 1,
   "metadata": {},
   "outputs": [
    {
     "name": "stderr",
     "output_type": "stream",
     "text": [
      "23/10/26 15:18:26 WARN Utils: Your hostname, localhost.localdomain resolves to a loopback address: 127.0.0.1; using 10.21.5.100 instead (on interface eth0)\n",
      "23/10/26 15:18:26 WARN Utils: Set SPARK_LOCAL_IP if you need to bind to another address\n",
      "Setting default log level to \"WARN\".\n",
      "To adjust logging level use sc.setLogLevel(newLevel). For SparkR, use setLogLevel(newLevel).\n",
      "23/10/26 15:18:26 WARN NativeCodeLoader: Unable to load native-hadoop library for your platform... using builtin-java classes where applicable\n"
     ]
    },
    {
     "name": "stdout",
     "output_type": "stream",
     "text": [
      "Spark Session WebUI Port: 4040\n"
     ]
    }
   ],
   "source": [
    "from pyspark.sql import SparkSession;\n",
    "\n",
    "# warehouse_location points to the default location for managed databases and tables\n",
    "from os.path import abspath\n",
    "warehouse_location = abspath('spark-warehouse')\n",
    "\n",
    "spark = SparkSession \\\n",
    "    .builder \\\n",
    "    .master(\"local[*]\") \\\n",
    "    .appName(\"ISM6562 PySpark Tutorials\") \\\n",
    "    .config(\"spark.sql.warehouse.dir\", warehouse_location) \\\n",
    "    .enableHiveSupport() \\\n",
    "    .getOrCreate()\n",
    "\n",
    "\n",
    "# Let's get the SparkContext object. It's the entry point to the Spark API. It's created when you create a sparksession\n",
    "sc = spark.sparkContext\n",
    "\n",
    "# note: If you have multiple spark sessions running (like from a previous notebook you've run), \n",
    "# this spark session webUI will be on a different port than the default (4040). One way to \n",
    "# identify this part is with the following line. If there was only one spark session running, \n",
    "# this will be 4040. If it's higher, it means there are still other spark sesssions still running.\n",
    "spark_session_port = spark.sparkContext.uiWebUrl.split(\":\")[-1]\n",
    "print(\"Spark Session WebUI Port: \" + spark_session_port)"
   ]
  },
  {
   "cell_type": "code",
   "execution_count": 2,
   "metadata": {},
   "outputs": [
    {
     "data": {
      "text/html": [
       "\n",
       "            <div>\n",
       "                <p><b>SparkSession - hive</b></p>\n",
       "                \n",
       "        <div>\n",
       "            <p><b>SparkContext</b></p>\n",
       "\n",
       "            <p><a href=\"http://linux:4040\">Spark UI</a></p>\n",
       "\n",
       "            <dl>\n",
       "              <dt>Version</dt>\n",
       "                <dd><code>v3.5.0</code></dd>\n",
       "              <dt>Master</dt>\n",
       "                <dd><code>local[*]</code></dd>\n",
       "              <dt>AppName</dt>\n",
       "                <dd><code>ISM6562 PySpark Tutorials</code></dd>\n",
       "            </dl>\n",
       "        </div>\n",
       "        \n",
       "            </div>\n",
       "        "
      ],
      "text/plain": [
       "<pyspark.sql.session.SparkSession at 0x7fd754fa7810>"
      ]
     },
     "execution_count": 2,
     "metadata": {},
     "output_type": "execute_result"
    }
   ],
   "source": [
    "spark"
   ]
  },
  {
   "cell_type": "code",
   "execution_count": 3,
   "metadata": {},
   "outputs": [
    {
     "name": "stderr",
     "output_type": "stream",
     "text": [
      "23/10/26 15:18:30 WARN HiveConf: HiveConf of name hive.stats.jdbc.timeout does not exist\n",
      "23/10/26 15:18:30 WARN HiveConf: HiveConf of name hive.stats.retries.wait does not exist\n",
      "23/10/26 15:18:33 WARN ObjectStore: Version information not found in metastore. hive.metastore.schema.verification is not enabled so recording the schema version 2.3.0\n",
      "23/10/26 15:18:33 WARN ObjectStore: setMetaStoreSchemaVersion called but recording version is disabled: version = 2.3.0, comment = Set by MetaStore student@127.0.0.1\n",
      "23/10/26 15:18:33 WARN ObjectStore: Failed to get database global_temp, returning NoSuchObjectException\n"
     ]
    },
    {
     "name": "stdout",
     "output_type": "stream",
     "text": [
      "+---------+------------+-----------+\n",
      "|namespace|   tableName|isTemporary|\n",
      "+---------+------------+-----------+\n",
      "|  default|fake_friends|      false|\n",
      "|  default|   incidents|      false|\n",
      "|  default|movieratings|      false|\n",
      "|  default|      movies|      false|\n",
      "+---------+------------+-----------+\n",
      "\n"
     ]
    }
   ],
   "source": [
    "spark.sql(\"show tables\").show()"
   ]
  },
  {
   "cell_type": "code",
   "execution_count": 4,
   "metadata": {},
   "outputs": [],
   "source": [
    "df = spark.sql(\"select * from incidents\")"
   ]
  },
  {
   "cell_type": "code",
   "execution_count": 5,
   "metadata": {},
   "outputs": [
    {
     "name": "stdout",
     "output_type": "stream",
     "text": [
      "root\n",
      " |-- number: string (nullable = true)\n",
      " |-- incident_state: string (nullable = true)\n",
      " |-- active: boolean (nullable = true)\n",
      " |-- reassignment_count: integer (nullable = true)\n",
      " |-- reopen_count: integer (nullable = true)\n",
      " |-- sys_mod_count: integer (nullable = true)\n",
      " |-- made_sla: boolean (nullable = true)\n",
      " |-- caller_id: string (nullable = true)\n",
      " |-- opened_by: string (nullable = true)\n",
      " |-- opened_at: string (nullable = true)\n",
      " |-- sys_created_by: string (nullable = true)\n",
      " |-- sys_created_at: string (nullable = true)\n",
      " |-- sys_updated_by: string (nullable = true)\n",
      " |-- sys_updated_at: string (nullable = true)\n",
      " |-- contact_type: string (nullable = true)\n",
      " |-- location: string (nullable = true)\n",
      " |-- category: string (nullable = true)\n",
      " |-- subcategory: string (nullable = true)\n",
      " |-- u_symptom: string (nullable = true)\n",
      " |-- cmdb_ci: string (nullable = true)\n",
      " |-- impact: string (nullable = true)\n",
      " |-- urgency: string (nullable = true)\n",
      " |-- priority: string (nullable = true)\n",
      " |-- assignment_group: string (nullable = true)\n",
      " |-- assigned_to: string (nullable = true)\n",
      " |-- knowledge: boolean (nullable = true)\n",
      " |-- u_priority_confirmation: boolean (nullable = true)\n",
      " |-- notify: string (nullable = true)\n",
      " |-- problem_id: string (nullable = true)\n",
      " |-- rfc: string (nullable = true)\n",
      " |-- vendor: string (nullable = true)\n",
      " |-- caused_by: string (nullable = true)\n",
      " |-- closed_code: string (nullable = true)\n",
      " |-- resolved_by: string (nullable = true)\n",
      " |-- resolved_at: string (nullable = true)\n",
      " |-- closed_at: string (nullable = true)\n",
      " |-- resolved_ts: timestamp (nullable = true)\n",
      " |-- opened_ts: timestamp (nullable = true)\n",
      " |-- sys_created_ts: timestamp (nullable = true)\n",
      " |-- sys_updated_ts: timestamp (nullable = true)\n",
      " |-- closed_ts: timestamp (nullable = true)\n",
      " |-- resolved: date (nullable = true)\n",
      " |-- opened: date (nullable = true)\n",
      " |-- sys_created: date (nullable = true)\n",
      " |-- sys_updated: date (nullable = true)\n",
      " |-- closed: date (nullable = true)\n",
      " |-- duration: integer (nullable = true)\n",
      "\n"
     ]
    }
   ],
   "source": [
    "df.printSchema()"
   ]
  },
  {
   "cell_type": "code",
   "execution_count": 6,
   "metadata": {},
   "outputs": [],
   "source": [
    "df_unique_incidents=df.filter(\"incident_state=='Closed'\").sort(\"sys_mod_count\",ascending=False).dropDuplicates([\"number\"])"
   ]
  },
  {
   "cell_type": "code",
   "execution_count": 7,
   "metadata": {},
   "outputs": [],
   "source": [
    "### 1. Top 5 people with most resolved incidents"
   ]
  },
  {
   "cell_type": "code",
   "execution_count": 8,
   "metadata": {},
   "outputs": [
    {
     "name": "stderr",
     "output_type": "stream",
     "text": [
      "                                                                                \r"
     ]
    },
    {
     "name": "stdout",
     "output_type": "stream",
     "text": [
      "+---------------+-----+\n",
      "|    resolved_by|count|\n",
      "+---------------+-----+\n",
      "| Resolved by 11| 3071|\n",
      "| Resolved by 15| 2415|\n",
      "|Resolved by 103|  689|\n",
      "|Resolved by 177|  686|\n",
      "| Resolved by 32|  597|\n",
      "+---------------+-----+\n",
      "only showing top 5 rows\n",
      "\n"
     ]
    }
   ],
   "source": [
    "A1=df_unique_incidents.groupby(\"resolved_by\").count().sort(\"count\",ascending=False)\n",
    "\n",
    "A1.show(n=5)"
   ]
  },
  {
   "attachments": {},
   "cell_type": "markdown",
   "metadata": {},
   "source": [
    "### 2. Based on least average duration, find the top 5 people with maxmium number of incidents resolved"
   ]
  },
  {
   "cell_type": "code",
   "execution_count": 9,
   "metadata": {},
   "outputs": [
    {
     "name": "stdout",
     "output_type": "stream",
     "text": [
      "+---------------+------------------+----------------+\n",
      "|    resolved_by|Incidents Resolved|Average Duration|\n",
      "+---------------+------------------+----------------+\n",
      "| Resolved by 10|                 4|             0.0|\n",
      "| Resolved by 94|                 4|             0.0|\n",
      "| Resolved by 26|                 2|             0.0|\n",
      "|Resolved by 145|                 2|             0.0|\n",
      "| Resolved by 17|                 1|             0.0|\n",
      "+---------------+------------------+----------------+\n",
      "only showing top 5 rows\n",
      "\n"
     ]
    }
   ],
   "source": [
    "from pyspark.sql import functions as F\n",
    "\n",
    "A2= df_unique_incidents.groupby(\"resolved_by\").agg(F.count(\"duration\"),F.mean(\"duration\")).\\\n",
    "    withColumnRenamed(\"count(duration)\",\"Incidents Resolved\").\\\n",
    "    withColumnRenamed(\"avg(duration)\",\"Average Duration\").\\\n",
    "    orderBy([\"Average Duration\",\"Incidents Resolved\"],ascending=[True,False])\n",
    "\n",
    "#spark.conf.set(\"spark.sql.legacy.timeParserPolicy\",\"LEGACY\")\n",
    "A2.show(n=5)"
   ]
  },
  {
   "attachments": {},
   "cell_type": "markdown",
   "metadata": {},
   "source": [
    "### 3. People with maximum number of high impact incidents resolved"
   ]
  },
  {
   "cell_type": "code",
   "execution_count": 10,
   "metadata": {},
   "outputs": [
    {
     "name": "stdout",
     "output_type": "stream",
     "text": [
      "+--------+---------------+-----+\n",
      "|  impact|    resolved_by|count|\n",
      "+--------+---------------+-----+\n",
      "|1 - High| Resolved by 98|   20|\n",
      "|1 - High|Resolved by 137|   17|\n",
      "|1 - High| Resolved by 11|   15|\n",
      "|1 - High|Resolved by 165|   13|\n",
      "|1 - High|  Resolved by 6|   12|\n",
      "|1 - High|Resolved by 111|   12|\n",
      "|1 - High|Resolved by 223|   10|\n",
      "|1 - High|Resolved by 158|    9|\n",
      "|1 - High| Resolved by 91|    9|\n",
      "|1 - High|Resolved by 139|    9|\n",
      "|1 - High|Resolved by 150|    9|\n",
      "|1 - High| Resolved by 90|    8|\n",
      "|1 - High|Resolved by 119|    8|\n",
      "|1 - High|Resolved by 155|    8|\n",
      "|1 - High| Resolved by 23|    7|\n",
      "|1 - High| Resolved by 15|    7|\n",
      "|1 - High| Resolved by 19|    6|\n",
      "|1 - High| Resolved by 83|    6|\n",
      "|1 - High| Resolved by 57|    6|\n",
      "|1 - High| Resolved by 77|    6|\n",
      "+--------+---------------+-----+\n",
      "only showing top 20 rows\n",
      "\n"
     ]
    }
   ],
   "source": [
    "A3= df_unique_incidents.select([\"resolved_by\",\"impact\",\"duration\"]).\\\n",
    "    groupby([\"impact\",\"resolved_by\"]).count().\\\n",
    "    sort([\"impact\",\"count\"],ascending=[True,False])\n",
    "\n",
    "A3.show()"
   ]
  },
  {
   "attachments": {},
   "cell_type": "markdown",
   "metadata": {},
   "source": [
    "### 4a. In each impact levels, find the person with most number of incidents resolve"
   ]
  },
  {
   "cell_type": "code",
   "execution_count": 11,
   "metadata": {},
   "outputs": [
    {
     "name": "stdout",
     "output_type": "stream",
     "text": [
      "+----------+--------------+-----+\n",
      "|    impact|   resolved_by|count|\n",
      "+----------+--------------+-----+\n",
      "|  1 - High|Resolved by 98|   20|\n",
      "|2 - Medium|Resolved by 11| 3045|\n",
      "|   3 - Low|Resolved by 66|  194|\n",
      "+----------+--------------+-----+\n",
      "\n"
     ]
    }
   ],
   "source": [
    "A4a=df_unique_incidents.select([\"resolved_by\",\"impact\",\"duration\"]).\\\n",
    "    groupby([\"impact\",\"resolved_by\"]).count().\\\n",
    "    sort([\"impact\",\"count\"],ascending=[True,False]).\\\n",
    "    dropDuplicates([\"impact\"])\n",
    "\n",
    "A4a.show()"
   ]
  },
  {
   "attachments": {},
   "cell_type": "markdown",
   "metadata": {},
   "source": [
    "### 4b. In each urgency levels, find the person with most number of incidents resolved"
   ]
  },
  {
   "cell_type": "code",
   "execution_count": 12,
   "metadata": {},
   "outputs": [
    {
     "name": "stdout",
     "output_type": "stream",
     "text": [
      "+----------+---------------+-----+\n",
      "|   urgency|    resolved_by|count|\n",
      "+----------+---------------+-----+\n",
      "|  1 - High|Resolved by 166|   38|\n",
      "|2 - Medium| Resolved by 11| 3047|\n",
      "|   3 - Low| Resolved by 66|  195|\n",
      "+----------+---------------+-----+\n",
      "\n"
     ]
    }
   ],
   "source": [
    "A4b=df_unique_incidents.select([\"resolved_by\",\"urgency\",\"duration\"]).\\\n",
    "    groupby([\"urgency\",\"resolved_by\"]).count().\\\n",
    "    sort([\"urgency\",\"count\"],ascending=[True,False]).dropDuplicates([\"urgency\"])\n",
    "\n",
    "A4b.show()"
   ]
  },
  {
   "attachments": {},
   "cell_type": "markdown",
   "metadata": {},
   "source": [
    "### 4c. In each priority levels, find the person with most number of incidents resolved"
   ]
  },
  {
   "cell_type": "code",
   "execution_count": 13,
   "metadata": {},
   "outputs": [
    {
     "name": "stdout",
     "output_type": "stream",
     "text": [
      "+------------+---------------+-----+\n",
      "|    priority|    resolved_by|count|\n",
      "+------------+---------------+-----+\n",
      "|1 - Critical| Resolved by 98|   16|\n",
      "|    2 - High|Resolved by 166|   40|\n",
      "|3 - Moderate| Resolved by 11| 3040|\n",
      "|     4 - Low| Resolved by 66|  195|\n",
      "+------------+---------------+-----+\n",
      "\n"
     ]
    }
   ],
   "source": [
    "A4c=df_unique_incidents.select([\"resolved_by\",\"priority\",\"duration\"]).\\\n",
    "    groupby([\"priority\",\"resolved_by\"]).count().\\\n",
    "    sort([\"priority\",\"count\"],ascending=[True,False]).dropDuplicates([\"priority\"])\n",
    "\n",
    "A4c.show()"
   ]
  },
  {
   "attachments": {},
   "cell_type": "markdown",
   "metadata": {},
   "source": [
    "### 5. Find each contact type as a percentage of total incidents"
   ]
  },
  {
   "cell_type": "code",
   "execution_count": 14,
   "metadata": {},
   "outputs": [
    {
     "name": "stderr",
     "output_type": "stream",
     "text": [
      "23/10/26 15:18:44 WARN WindowExec: No Partition Defined for Window operation! Moving all data to a single partition, this can cause serious performance degradation.\n",
      "23/10/26 15:18:44 WARN WindowExec: No Partition Defined for Window operation! Moving all data to a single partition, this can cause serious performance degradation.\n",
      "23/10/26 15:18:44 WARN WindowExec: No Partition Defined for Window operation! Moving all data to a single partition, this can cause serious performance degradation.\n",
      "23/10/26 15:18:44 WARN WindowExec: No Partition Defined for Window operation! Moving all data to a single partition, this can cause serious performance degradation.\n",
      "23/10/26 15:18:44 WARN WindowExec: No Partition Defined for Window operation! Moving all data to a single partition, this can cause serious performance degradation.\n",
      "23/10/26 15:18:44 WARN WindowExec: No Partition Defined for Window operation! Moving all data to a single partition, this can cause serious performance degradation.\n",
      "23/10/26 15:18:44 WARN WindowExec: No Partition Defined for Window operation! Moving all data to a single partition, this can cause serious performance degradation.\n",
      "23/10/26 15:18:44 WARN WindowExec: No Partition Defined for Window operation! Moving all data to a single partition, this can cause serious performance degradation.\n",
      "23/10/26 15:18:44 WARN WindowExec: No Partition Defined for Window operation! Moving all data to a single partition, this can cause serious performance degradation.\n",
      "23/10/26 15:18:44 WARN WindowExec: No Partition Defined for Window operation! Moving all data to a single partition, this can cause serious performance degradation.\n",
      "23/10/26 15:18:44 WARN WindowExec: No Partition Defined for Window operation! Moving all data to a single partition, this can cause serious performance degradation.\n"
     ]
    },
    {
     "name": "stdout",
     "output_type": "stream",
     "text": [
      "+--------------+-----+----------+\n",
      "|  contact_type|count|percentage|\n",
      "+--------------+-----+----------+\n",
      "|         Phone|24688|     99.08|\n",
      "|         Email|   59|      0.24|\n",
      "|  Self service|  158|      0.63|\n",
      "|           IVR|    9|      0.04|\n",
      "|Direct opening|    4|      0.02|\n",
      "+--------------+-----+----------+\n",
      "\n"
     ]
    }
   ],
   "source": [
    "from pyspark.sql.window import Window\n",
    "\n",
    "A5= df_unique_incidents.select([\"contact_type\"]).\\\n",
    "    groupby([\"contact_type\"]).count().\\\n",
    "    withColumn(\"percentage\",F.round(F.col(\"count\")*100/F.sum(\"count\").over(Window.partitionBy()),2))\n",
    "\n",
    "A5.show()"
   ]
  },
  {
   "attachments": {},
   "cell_type": "markdown",
   "metadata": {},
   "source": [
    "### 6. On each priority level, find the percentage of incidents which made SLA and which did not."
   ]
  },
  {
   "cell_type": "code",
   "execution_count": 15,
   "metadata": {},
   "outputs": [
    {
     "name": "stdout",
     "output_type": "stream",
     "text": [
      "+------------+--------+----------+----------+\n",
      "|    priority|made_sla|Population|Made SLA %|\n",
      "+------------+--------+----------+----------+\n",
      "|1 - Critical|    true|         5|      1.85|\n",
      "|1 - Critical|   false|       265|     98.15|\n",
      "|    2 - High|    true|         2|      0.49|\n",
      "|    2 - High|   false|       406|     99.51|\n",
      "|3 - Moderate|    true|     15145|     64.54|\n",
      "|3 - Moderate|   false|      8321|     35.46|\n",
      "|     4 - Low|    true|       651|     84.11|\n",
      "|     4 - Low|   false|       123|     15.89|\n",
      "+------------+--------+----------+----------+\n",
      "\n"
     ]
    }
   ],
   "source": [
    "A6= df_unique_incidents.select([\"priority\",\"made_sla\"]).\\\n",
    "    groupby([\"priority\",\"made_sla\"]).count().\\\n",
    "    withColumnRenamed(\"count\",\"Population\").\\\n",
    "    withColumn(\"Made SLA %\",F.round(F.col(\"Population\")*100/F.sum(\"Population\").over(Window.partitionBy(\"priority\")),2)).\\\n",
    "    sort([\"priority\",\"made_sla\"],ascending=[True,False])\n",
    "\n",
    "A6.show()"
   ]
  },
  {
   "attachments": {},
   "cell_type": "markdown",
   "metadata": {},
   "source": [
    "### 7. Top 5 location with the maximum number of incidents reported"
   ]
  },
  {
   "cell_type": "code",
   "execution_count": 16,
   "metadata": {},
   "outputs": [
    {
     "name": "stdout",
     "output_type": "stream",
     "text": [
      "+------------+------------------+\n",
      "|    location|Incidents Reported|\n",
      "+------------+------------------+\n",
      "|Location 204|              5554|\n",
      "|Location 161|              4002|\n",
      "|Location 143|              3276|\n",
      "|Location 108|              2140|\n",
      "| Location 93|              1934|\n",
      "| Location 51|              1516|\n",
      "|Location 188|               622|\n",
      "|Location 179|               346|\n",
      "| Location 43|               329|\n",
      "|Location 111|               264|\n",
      "| Location 55|               241|\n",
      "| Location 46|               221|\n",
      "|Location 125|               216|\n",
      "| Location 96|               174|\n",
      "|Location 135|               172|\n",
      "| Location 54|               154|\n",
      "| Location 56|               150|\n",
      "|Location 229|               122|\n",
      "| Location 42|               119|\n",
      "| Location 97|               113|\n",
      "+------------+------------------+\n",
      "only showing top 20 rows\n",
      "\n"
     ]
    }
   ],
   "source": [
    "A7= df_unique_incidents.groupby([\"location\"]).agg({\"number\":\"count\"}).\\\n",
    "    withColumnRenamed(\"count(number)\",\"Incidents Reported\").sort([\"Incidents Reported\"],ascending=False)\n",
    "\n",
    "A7.show()"
   ]
  },
  {
   "attachments": {},
   "cell_type": "markdown",
   "metadata": {},
   "source": [
    "### 8. Which category of issues missed meeting the SLA the most?"
   ]
  },
  {
   "cell_type": "code",
   "execution_count": 17,
   "metadata": {},
   "outputs": [
    {
     "name": "stdout",
     "output_type": "stream",
     "text": [
      "+-----------+----------------------------+\n",
      "|   category|Incidents failed to make SLA|\n",
      "+-----------+----------------------------+\n",
      "|Category 46|                        1254|\n",
      "|Category 26|                        1017|\n",
      "|Category 53|                        1009|\n",
      "|Category 42|                         689|\n",
      "|Category 23|                         505|\n",
      "| Category 9|                         471|\n",
      "|Category 45|                         446|\n",
      "|Category 61|                         429|\n",
      "|Category 57|                         390|\n",
      "|Category 37|                         385|\n",
      "|Category 32|                         377|\n",
      "|Category 34|                         333|\n",
      "|Category 24|                         303|\n",
      "|Category 40|                         266|\n",
      "|Category 20|                         241|\n",
      "|Category 28|                         160|\n",
      "|Category 44|                         151|\n",
      "|Category 19|                         130|\n",
      "|Category 51|                         109|\n",
      "|Category 55|                          84|\n",
      "+-----------+----------------------------+\n",
      "only showing top 20 rows\n",
      "\n"
     ]
    }
   ],
   "source": [
    "A8= df_unique_incidents.filter(\"made_sla==false\").groupby([\"category\"]).\\\n",
    "    agg({\"made_sla\":\"count\"}).withColumnRenamed(\"count(made_sla)\",\"Incidents failed to make SLA\").\\\n",
    "    sort([\"Incidents failed to make SLA\"],ascending=False)\n",
    "\n",
    "A8.show()"
   ]
  },
  {
   "cell_type": "code",
   "execution_count": 18,
   "metadata": {},
   "outputs": [],
   "source": [
    "spark.stop()"
   ]
  }
 ],
 "metadata": {
  "kernelspec": {
   "display_name": "Python 3 (ipykernel)",
   "language": "python",
   "name": "python3"
  },
  "language_info": {
   "codemirror_mode": {
    "name": "ipython",
    "version": 3
   },
   "file_extension": ".py",
   "mimetype": "text/x-python",
   "name": "python",
   "nbconvert_exporter": "python",
   "pygments_lexer": "ipython3",
   "version": "3.11.5"
  }
 },
 "nbformat": 4,
 "nbformat_minor": 4
}
